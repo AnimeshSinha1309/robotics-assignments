{
 "cells": [
  {
   "cell_type": "code",
   "execution_count": 8,
   "id": "bc6fb49d",
   "metadata": {},
   "outputs": [],
   "source": [
    "import open3d\n",
    "import numpy as np\n",
    "import util"
   ]
  },
  {
   "cell_type": "markdown",
   "id": "e4422c5e",
   "metadata": {},
   "source": [
    "**1. Optimization**: You are given the function:  exp(a * x) * sin(x) + b. Implement Levenberg Marquadt using numpy and solve for the parameters of the above function. Optimize for the following parameters: a=2, b = 1. Do this for 50 observations that lie between 1 and 20. Plot the loss values over time and data fit curves. Ensure that your initial estimates are not very close to the final parameters. Write down the jacobian formula in the notebook. **\\[3 points\\]**"
   ]
  },
  {
   "cell_type": "code",
   "execution_count": 172,
   "id": "aa19979a",
   "metadata": {},
   "outputs": [],
   "source": [
    "x_obs = np.sort(np.random.random(size=50) * 20)\n",
    "y_obs = np.exp(-2 * x_obs) + 1\n",
    "\n",
    "\n",
    "def lm(x, y, lr = 0.001, iters=10):\n",
    "    loss = []\n",
    "    k = np.array([[1.5, 12.3]]).T\n",
    "    for i in range(iters):\n",
    "        a, b = k[0, 0], k[1, 0]\n",
    "        r = np.expand_dims(np.exp(-a * x) + b - y, axis=1)\n",
    "\n",
    "        if len(loss) > 0:\n",
    "            if np.sum(r ** 2) > loss[-1]:\n",
    "                lr = lr * 2\n",
    "            else:\n",
    "                lr = lr / 2\n",
    "                \n",
    "        loss.append(np.sum(r ** 2))\n",
    "        j = np.vstack([np.sin(x) * np.exp(a * x) * a, np.ones(shape=x.shape)]).T\n",
    "        k = k - (np.linalg.inv(j.T @ j + lr * np.eye(j.shape[1])) @ j.T) @ r\n",
    "    return {'training_loss': loss, 'result': k}\n",
    "    \n",
    "history = lm(x_obs, y_obs)"
   ]
  },
  {
   "cell_type": "code",
   "execution_count": 174,
   "id": "d734a427",
   "metadata": {
    "scrolled": true
   },
   "outputs": [
    {
     "data": {
      "text/plain": [
       "[<matplotlib.lines.Line2D at 0x7f6aa66c5eb0>]"
      ]
     },
     "execution_count": 174,
     "metadata": {},
     "output_type": "execute_result"
    },
    {
     "data": {
      "image/png": "[encoded data removed]",
      "text/plain": [
       "<Figure size 432x288 with 1 Axes>"
      ]
     },
     "metadata": {
      "needs_background": "light"
     },
     "output_type": "display_data"
    }
   ],
   "source": [
    "plt.plot(history['training_loss'])"
   ]
  },
  {
   "cell_type": "code",
   "execution_count": 178,
   "id": "957051c4",
   "metadata": {},
   "outputs": [
    {
     "data": {
      "image/png": "[encoded data removed]",
      "text/plain": [
       "<Figure size 720x720 with 1 Axes>"
      ]
     },
     "metadata": {
      "needs_background": "light"
     },
     "output_type": "display_data"
    }
   ],
   "source": [
    "plt.figure(figsize=(10, 10))\n",
    "plt.plot(x_obs, y_obs, 'r.')\n",
    "plt.plot(x_obs, np.exp(-history['result'][0, 0] * x_obs) + history['result'][1, 0], 'bx')\n",
    "x_smooth = np.linspace(0, 20, 1000)\n",
    "plt.plot(x_smooth, np.exp(-history['result'][0, 0] * x_smooth) + history['result'][1, 0], 'k')\n",
    "plt.show()"
   ]
  },
  {
   "cell_type": "markdown",
   "id": "015d1801",
   "metadata": {},
   "source": [
    "**2. Linear least square**: You are given a bin file from the Kitti raw sequence. Estimate the ground plane from the given bin file. After estimating the ground plane, visualize this in open3d by drawing 200-300 points on the ground with a different color on top of the plot obtained from the LiDAR scan. Use RANSAC to estimate the ground plane. Will this work without RANSAC? Why or Why not? Write down the equation of the ground plane obtained and also mention the parameters used for doing RANSAC  **\\[6 points\\]**\n",
    "\n",
    "Expected result is displayed here:\n",
    "\n",
    "![output](./data/groundplane.png)"
   ]
  },
  {
   "cell_type": "code",
   "execution_count": 2,
   "id": "13125782",
   "metadata": {},
   "outputs": [],
   "source": [
    "def read_bin_file(file_name):\n",
    "    '''\n",
    "    Read the bin file\n",
    "    '''\n",
    "    points = np.fromfile(file_name, dtype=np.float32).reshape(-1, 4)\n",
    "    points = points[:,:3]                # exclude reflectance values, becomes [X Y Z]\n",
    "    points = points[1::5,:]              # remove every 5th point for display speed (optional)\n",
    "    return points"
   ]
  },
  {
   "cell_type": "code",
   "execution_count": 110,
   "id": "ec98e64a",
   "metadata": {},
   "outputs": [],
   "source": [
    "filename = \"./data/000013.bin\"\n",
    "points = read_bin_file(filename)\n",
    "\n",
    "# Function used to visualize point clouds, takes a list of 3 x N numpy array as input and plots\n",
    "util.visualize_pointclouds([points.T])"
   ]
  },
  {
   "cell_type": "code",
   "execution_count": 38,
   "id": "c4179a8a",
   "metadata": {},
   "outputs": [],
   "source": [
    "best_normal, best_distance, best_score = None, None, 99999999999999.0\n",
    "\n",
    "for i in range(1000):\n",
    "    selection = np.random.randint(len(points), size=3)\n",
    "    x, y, z = points[selection]\n",
    "    normal = np.cross(x - z, y - z)\n",
    "    distance = np.dot(normal, x)\n",
    "\n",
    "    distance_to_plane = np.dot(points, normal) - distance\n",
    "    score = np.sqrt(np.mean(distance_to_plane ** 2))\n",
    "    \n",
    "    if score < best_score:\n",
    "        best_score = score\n",
    "        best_distance = distance\n",
    "        best_normal = normal"
   ]
  },
  {
   "cell_type": "code",
   "execution_count": 108,
   "id": "634291ee",
   "metadata": {},
   "outputs": [
    {
     "name": "stdout",
     "output_type": "stream",
     "text": [
      "[[-100.          -95.91836735  -91.83673469 ...   91.83673469\n",
      "    95.91836735  100.        ]\n",
      " [-100.         -100.         -100.         ...  100.\n",
      "   100.          100.        ]]\n"
     ]
    }
   ],
   "source": [
    "n = best_normal / np.linalg.norm(best_normal)\n",
    "d = best_distance / np.linalg.norm(best_distance)\n",
    "x = np.array([1, 0, 0])\n",
    "y = np.array([0, 1, 0])\n",
    "\n",
    "x = x - np.dot(n, x) * n\n",
    "x = x / np.linalg.norm(x)\n",
    "\n",
    "y = y - np.dot(n, y) * n + np.dot(x, y) * x\n",
    "y = y / np.linalg.norm(y)\n",
    "\n",
    "x_c, y_c = np.meshgrid(np.linspace(-100, 100, 50), np.linspace(-100, 100, 50))\n",
    "x_c = np.reshape(x_c, -1)\n",
    "y_c = np.reshape(y_c, -1)\n",
    "print(np.stack([x_c, y_c]))\n",
    "\n",
    "coords = x_c[:, None] * x[None, :] + y_c[:, None] * y[None, :] + n\n",
    "\n",
    "# util.visualize_pointclouds([coords.T])"
   ]
  },
  {
   "cell_type": "code",
   "execution_count": 114,
   "id": "dbbf7b42",
   "metadata": {},
   "outputs": [],
   "source": [
    "pcd_base = open3d.geometry.PointCloud()\n",
    "pcd_base.points = open3d.utility.Vector3dVector(points)\n",
    "pcd_base.paint_uniform_color([56/255, 172/255, 236/255])\n",
    "\n",
    "pcd_ground = open3d.geometry.PointCloud()\n",
    "pcd_ground.points = open3d.utility.Vector3dVector(coords)\n",
    "pcd_ground.paint_uniform_color([1, 0.706, 0])\n",
    "\n",
    "open3d.visualization.draw_geometries([pcd_base, pcd_ground])"
   ]
  },
  {
   "cell_type": "markdown",
   "id": "bfc57b53",
   "metadata": {},
   "source": [
    "We get the following output for the ground plane."
   ]
  }
 ],
 "metadata": {
  "kernelspec": {
   "display_name": "mobile-robotics",
   "language": "python",
   "name": "mobile-robotics"
  },
  "language_info": {
   "codemirror_mode": {
    "name": "ipython",
    "version": 3
   },
   "file_extension": ".py",
   "mimetype": "text/x-python",
   "name": "python",
   "nbconvert_exporter": "python",
   "pygments_lexer": "ipython3",
   "version": "3.8.12"
  }
 },
 "nbformat": 4,
 "nbformat_minor": 5
}
