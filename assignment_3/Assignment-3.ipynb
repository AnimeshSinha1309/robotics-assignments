{
 "cells": [
  {
   "cell_type": "markdown",
   "id": "a73d52f9",
   "metadata": {},
   "source": [
    "# Assignment 3: ICP + Non-linear least squares optimization\n",
    "\n",
    "TEAM-NAME: BayesianMechanics\n",
    "\n",
    "YOUR-ID: 2018113001, 2018113002\n",
    "\n",
    "YOUR-NAME: Animesh Sinha, Bhuvanesh Sridharan\n",
    "\n",
    "## Instructions\n",
    "\n",
    "* You are not allowed to use any external libraries (other than ones being imported below).\n",
    "* The deadline for this assignment is **15-09-21** at 11:55pm.\n",
    "* Plagiarism is **strictly prohibited**"
   ]
  },
  {
   "cell_type": "code",
   "execution_count": 1,
   "id": "32e7c498",
   "metadata": {},
   "outputs": [
    {
     "name": "stderr",
     "output_type": "stream",
     "text": [
      "INFO - 2021-10-16 01:11:21,102 - utils - NumExpr defaulting to 8 threads.\n"
     ]
    }
   ],
   "source": [
    "import copy\n",
    "import math\n",
    "import time\n",
    "\n",
    "import open3d as o3d\n",
    "import numpy as np\n",
    "from matplotlib import pyplot as plt\n",
    "import tqdm.notebook as tqdm"
   ]
  },
  {
   "cell_type": "markdown",
   "id": "65ceeb57",
   "metadata": {},
   "source": [
    "# Non Linear Least Squares Optimization"
   ]
  },
  {
   "cell_type": "markdown",
   "id": "3711467f",
   "metadata": {},
   "source": [
    "## 1.1 Gradient Descent\n",
    "Implement the gradient descent algorithm using numpy and what you have learned from class to solve for the parameters of a gaussian distribution.\n",
    "To understand the task in more detail and look at a worked through example, checkout the subsequent section. You have to implement the same using just numpy functions. You can refer to [Shubodh's notes](https://www.notion.so/saishubodh/From-linear-algebra-to-non-linear-weighted-least-squares-optimization-13cf17d318be4d45bb8577c4d3ea4a02) on the same to get a better grasp of the concept before implementing it.\n",
    "* Experiment with the number of iterations.\n",
    "* Experiment with the learning rate.\n",
    "* Experiment with the tolerance.\n",
    "\n",
    "Display your results using matplotlib by plotting graphs for \n",
    "* The cost function value vs the number of iterations\n",
    "* The Ground Truth data values and the predicted data values.\n",
    "\n",
    "Your plots are expected to contain information similar to the plot below:\n",
    "\n",
    "<!-- <figure> -->\n",
    "<img src='./helpers/sample_plt.png' alt=drawing width=500 height=600>\n",
    "\n",
    "<!-- <figcaption align='center'><b>A sample plot, you can use your own plotting template</b></figcaption>\n",
    "</figure> -->\n",
    "<!-- head over to [this page](https://saishubodh.notion.site/Non-Linear-Least-Squares-Solved-example-Computing-Jacobian-for-a-Gaussian-Gradient-Descent-7fd11ebfee034f8ca89cc78c8f1d24d9) -->"
   ]
  },
  {
   "cell_type": "markdown",
   "id": "199a2cd7",
   "metadata": {},
   "source": [
    "## Worked out Example using Gradient Descent\n",
    "\n",
    "A Gaussian distribution parametrized by $a,m,s$ is given by:\n",
    "\n",
    "$$ y(x;a,m,s)=a \\exp \\left(\\frac{-(x-m)^{2}}{2 s^{2}}\\right) \\tag{1}$$\n",
    "\n",
    "### Jacobian of Gaussian\n",
    "\n",
    "$$\\mathbf{J}_y=\\left[\\frac{\\partial y}{\\partial a} \\quad \\frac{\\partial y}{\\partial m} \\quad \\frac{\\partial y}{\\partial s}\\right] \\\\\n",
    "= \\left[ \\exp \\left(\\frac{-(x-m)^{2}}{2 s^{2}}\\right); \\frac{a (x-m)}{s^2} \\exp\\left(\\frac{-(x-m)^{2}}{2 s^{2}}\\right);  \\frac{a (x-m)^2}{s^3}\\exp \\left(\\frac{-(x-m)^{2}}{2 s^{2}}\\right)\\right]$$\n",
    "\n",
    "## Problem at hand\n",
    "\n",
    "> Given a set of observations $y_{obs}$ and $x_{obs}$ we want to find the optimum parameters $a,m,s$ which best fit our observations given an initial estimate.\n",
    "\n",
    "Our observations would generally be erroneous and given to us, but for the sake of knowing how good our model is performing, let us generate the observations ourselves by assuming the actual \"actual\" parameter values as $a_{gt}=10; m_{gt} =0; s_{gt} =20$ ($gt$ stands for ground truth). We will try to estimate these values based on our observations and let us see how close we get to \"actual\" parameters. Note that in reality we obviously don't have these parameters as that is exactly what we want to estimate in the first place. So let us consider the following setup, we have:\n",
    "\n",
    "- Number of observations, $num\\_obs = 50$\n",
    "- Our 50 set of observations would be\n",
    "    - $x_{obs} = np.linspace(-25,25, num\\_obs)$\n",
    "    - $y_{obs} = y(x_{obs};a_{gt},m_{gt},s_{gt})$  from $(1)$\n",
    "\n",
    "Reference:\n",
    "\n",
    "→[linspace](https://numpy.org/doc/stable/reference/generated/numpy.linspace.html)\n",
    "\n",
    "- Say we are given initial estimate as:\n",
    "\n",
    "    $$a_0=10; \\quad m_0=13; \\quad s_0=19.12$$\n",
    "\n",
    "### Residual and error to be minimized\n",
    "\n",
    "Okay, now we have set of observations and an initial estimate of parameters. We would now want to minimize an error that would give us optimum parameters.\n",
    "\n",
    "The $residual$ would be given by\n",
    "\n",
    "$$ r(a,m,s) = \\left[ a \\exp \\left(\\frac{-(x_{obs}-m)^{2}}{2 s^{2}}\\right) - y_{obs}\\ \\right]$$\n",
    "\n",
    "where we'd want to minimize $\\|r\\|^2$. Note that $r$ is a non-linear function in $(a,m,s)$.\n",
    "\n",
    "Also, note that since $y$ (and $x$) are observations in the above equation, after simplification, we get $\\mathbf{J}_r = \\mathbf{J}_y$ [above](https://www.notion.so/c9e6f71b67a44bb8b366df2fccfc12d0) (since $y_{obs}$ is a constant).\n",
    "\n",
    "Let us apply Gradient Descent method for minimization here. From [Table I](https://www.notion.so/From-linear-algebra-to-non-linear-weighted-least-squares-optimization-13cf17d318be4d45bb8577c4d3ea4a02),  \n",
    "\n",
    "$$\\Delta \\mathbf{k} = - \\alpha \\mathbf{J_F} = -\\alpha \\mathbf{J}_r^{\\top} {r}(\\mathbf{k})$$\n",
    "\n",
    "Note that $\\mathbf{J_F}$ is the Jacobian of \"non-linear least squares\" function $\\mathbf{F}$ while $\\mathbf{J}_r$ is the Jacobian of the residual. \n",
    "\n",
    "where $\\mathbf{k}$ is $[a,m,s]^T$. \n",
    "\n",
    "- Some hyperparameters:\n",
    "    - Learning rate, $lr = 0.01$\n",
    "    - Maximum number of iterations, $num\\_iter=200$\n",
    "    - Tolerance, $tol = 1e-15$\n",
    "\n",
    "## Solution for 1 iteration\n",
    "\n",
    "To see how each step looks like, let us solve for 1 iteration and for simpler calculations, assume we have 3 observations, \n",
    "\n",
    "$$x_{obs}= \\left[ -25, 0, 25 \\right]^T, y_{obs} = \\left[  4.5783, 10, 4.5783 \\right]^T. $$\n",
    "\n",
    "With our initial estimate as $\\mathbf{k_0} = [a_0=10, \\quad m_0=13, \\quad s_0=19.12]^T$, the residual would be \n",
    "\n",
    "$$ r(a_0,m_0,s_0) = \\left[ a_0 \\exp \\left(\\frac{-(x_{obs}-m_0)^{2}}{2 s_0^{2}}\\right) - y_{obs}\\ \\right]$$\n",
    "\n",
    "Therefore, $r=[-3.19068466, -2.0637411 , 3.63398058]^T$.\n",
    "\n",
    "### Gradient Computation\n",
    "\n",
    "Gradient, $\\mathbf{J_F}$=\n",
    "\n",
    "$$\\mathbf{J_r}^{\\top} \\mathbf{r}(\\mathbf{k})$$\n",
    "\n",
    "We have calculated residual already [above](https://www.notion.so/c9e6f71b67a44bb8b366df2fccfc12d0), let us calculate the Jacobian $\\mathbf{J_r}$.\n",
    "\n",
    "$$\\mathbf{J}_r\n",
    "= \\left[ \\exp \\left(\\frac{-(x-m)^{2}}{2 s^{2}}\\right); \\frac{a (x-m)}{s^2} \\exp\\left(\\frac{-(x-m)^{2}}{2 s^{2}}\\right);  \\frac{a (x-m)^2}{s^3}\\exp \\left(\\frac{-(x-m)^{2}}{2 s^{2}}\\right)\\right]$$\n",
    "\n",
    "$$\\implies \\mathbf{J_r} = \\left[ \\begin{array}{rrr}0.1387649 & 0.79362589, & 0.82123142 \\\\-0.14424057 & -0.28221715  & 0.26956967 \\\\0.28667059 & 0.19188405, & 0.16918599\\end{array}\\right]$$\n",
    "\n",
    "So ,\n",
    "\n",
    "$$\\mathbf{J_F} = \\mathbf{J_r}^{\\top} \\mathbf{r}(\\mathbf{k})$$\n",
    "\n",
    "$$\\mathbf{r}(\\mathbf{k}) =  \\left[ \\begin{array}{r}-3.19068466 \\\\ -2.0637411 \\\\ 3.63398058 \\end{array} \\right]$$\n",
    "\n",
    "$$ \\begin{aligned} \\implies \\mathbf{J_F} = \\left[ \\begin{array}{r} 0.89667553 \\\\ -1.25248392 \\\\-2.56179392\\end{array} \\right] \\end{aligned}$$\n",
    "\n",
    "### Update step\n",
    "\n",
    "$$\n",
    "\\Delta \\mathbf{k} = - \\alpha \\mathbf{J_F} \\\\\n",
    "\\mathbf{k}^{t+1} = \\mathbf{k}^t + \\Delta \\mathbf{k}\n",
    "$$\n",
    "\n",
    "Here, $\\alpha$ our learning rate is 0.01.\n",
    "\n",
    "$$\n",
    "\\Delta \\mathbf{k} = - \\alpha\\times\\left[ \\begin{array}{r} \n",
    "0.89667553 \\\\ -1.25248392 \\\\-2.56179392\n",
    "\\end{array} \\right] = \\left[ \\begin{array}{r}\n",
    "-0.00896676 \\\\ 0.01252484 \\\\0.02561794\n",
    "\\end{array}\\right]\n",
    "$$\n",
    "\n",
    "$$\n",
    "\\mathbf{k}^{1} = \\mathbf{k}^{0} + \\Delta \\mathbf{k} \\\\ \\left[\\begin{array}{r} 10 \\\\ 13 \\\\ 19.12 \\end{array}\\right] + \\left[\\begin{array}{c} 9.99103324 \\\\ 13.01252484 \\\\ 19.14561794 \\end{array} \\right]\n",
    "$$\n",
    "\n",
    "With just one iteration with very few observations, we can see that we have gotten *slightly* more closer to our GT parameter  $a_{gt}=10; m_{gt} =0; s_{gt} =20$. Our initial estimate was $[a_0=10, \\quad m_0=13, \\quad s_0=19.12]$. However, the above might not be noticeable enough: Hence you need to code it for more iterations and convince yourself as follows:"
   ]
  },
  {
   "cell_type": "markdown",
   "id": "de14d763",
   "metadata": {},
   "source": [
    "### Gradient Descent on Gaussian"
   ]
  },
  {
   "cell_type": "code",
   "execution_count": 2,
   "id": "fa4adec1",
   "metadata": {},
   "outputs": [
    {
     "data": {
      "image/png": "[encoded data removed]",
      "text/plain": [
       "<Figure size 432x288 with 1 Axes>"
      ]
     },
     "metadata": {
      "needs_background": "light"
     },
     "output_type": "display_data"
    }
   ],
   "source": [
    "def fn(x, a, m, s):\n",
    "    return a * np.exp(-(x - m) ** 2 / (2 * s * s))\n",
    "\n",
    "a_gt, m_gt, s_gt = 10, 0, 20\n",
    "x_obs = np.linspace(-25, 25, 50)\n",
    "y_obs = fn(x_obs, a_gt, m_gt, s_gt)\n",
    "\n",
    "plt.plot(x_obs, y_obs)\n",
    "plt.show()"
   ]
  },
  {
   "cell_type": "code",
   "execution_count": 3,
   "id": "3ad441b7",
   "metadata": {},
   "outputs": [
    {
     "data": {
      "application/vnd.jupyter.widget-view+json": {
       "model_id": "47fb3a903b5f43eb8858c7528196b8b9",
       "version_major": 2,
       "version_minor": 0
      },
      "text/plain": [
       "HBox(children=(IntProgress(value=0, max=1000), HTML(value='')))"
      ]
     },
     "metadata": {},
     "output_type": "display_data"
    },
    {
     "name": "stdout",
     "output_type": "stream",
     "text": [
      "\n"
     ]
    }
   ],
   "source": [
    "def optimize(x, y, lr = 0.01, iters=1000):\n",
    "    loss = []\n",
    "    k = np.array([[10, 13, 19.12]]).T\n",
    "    with tqdm.trange(iters) as iterator:\n",
    "        for i in iterator:\n",
    "            a, m, s = k[0, 0], k[1, 0], k[2, 0]\n",
    "            r = np.expand_dims(fn(x, a, m, s) - y, axis=1)\n",
    "            loss.append(np.sum(r ** 2))\n",
    "            j_r = np.vstack([                                np.exp(-(x - m) ** 2 / (2 * s * s)),\n",
    "                             (a * (x - m)     ) / (s ** 2) * np.exp(-(x - m) ** 2 / (2 * s * s)),\n",
    "                             (a * (x - m) ** 2) / (s ** 3) * np.exp(-(x - m) ** 2 / (2 * s * s)),])\n",
    "            j_f = j_r @ r\n",
    "            k = k - lr * j_f\n",
    "            iterator.set_postfix(loss=loss[-1])\n",
    "    return {'training_loss': loss, 'result': k}\n",
    "    \n",
    "history = optimize(x_obs, y_obs)"
   ]
  },
  {
   "cell_type": "code",
   "execution_count": 4,
   "id": "59c3ff7f",
   "metadata": {
    "scrolled": false
   },
   "outputs": [
    {
     "data": {
      "text/plain": [
       "[<matplotlib.lines.Line2D at 0x7f11155ba970>]"
      ]
     },
     "execution_count": 4,
     "metadata": {},
     "output_type": "execute_result"
    },
    {
     "data": {
      "image/png": "[encoded data removed]",
      "text/plain": [
       "<Figure size 432x288 with 1 Axes>"
      ]
     },
     "metadata": {
      "needs_background": "light"
     },
     "output_type": "display_data"
    }
   ],
   "source": [
    "plt.plot(history['training_loss'])"
   ]
  },
  {
   "cell_type": "code",
   "execution_count": 5,
   "id": "535f2649",
   "metadata": {
    "scrolled": true
   },
   "outputs": [
    {
     "data": {
      "image/png": "[encoded data removed]",
      "text/plain": [
       "<Figure size 432x288 with 1 Axes>"
      ]
     },
     "metadata": {
      "needs_background": "light"
     },
     "output_type": "display_data"
    }
   ],
   "source": [
    "x_obs = np.linspace(-25, 25, 50)\n",
    "y_obs = fn(x_obs, a_gt, m_gt, s_gt)\n",
    "k = history['result']\n",
    "y_pred = fn(x_obs, k[0, 0], k[1, 0], k[2, 0])\n",
    "\n",
    "plt.plot(x_obs, y_obs, 'r')\n",
    "plt.plot(x_obs, y_pred, 'bx')\n",
    "plt.show()"
   ]
  },
  {
   "cell_type": "markdown",
   "id": "d084bef0",
   "metadata": {},
   "source": [
    "## 1.2: Another Non-Linear function\n",
    "Now that you've got the hang of computing the jacobian matrix for a non-linear function via the aid of an example, try to compute the jacobian of a secondary gaussian function by carrying out steps similar to what has been shown above. The function is plotted below:\n",
    "<img src='./helpers/non_linear.png' alt=drawing width=500 height=600>\n",
    "Using the computed jacobian, optimise for the four parameters using gradient descent, where the parameters to be estimated are: \n",
    "\n",
    "$p_1$ = 2,  $p_2$ = 8,  $p_3$ = 4,  $p_4$ = 8. \n",
    "\n",
    "Do this for $x_{obs} = np.linspace(-20, 30, num\\_obs)$,\n",
    "where $num\\_obs$ is 50."
   ]
  },
  {
   "cell_type": "markdown",
   "id": "520748ca",
   "metadata": {},
   "source": [
    "### Gradient Descent on Non-Linear function"
   ]
  },
  {
   "cell_type": "code",
   "execution_count": 6,
   "id": "5ff1aeb1",
   "metadata": {},
   "outputs": [
    {
     "data": {
      "image/png": "[encoded data removed]",
      "text/plain": [
       "<Figure size 432x288 with 1 Axes>"
      ]
     },
     "metadata": {
      "needs_background": "light"
     },
     "output_type": "display_data"
    }
   ],
   "source": [
    "def fn(x, p):\n",
    "    return p[0] * np.exp(- x / p[1]) + p[2] * np.sin(x / p[3])\n",
    "\n",
    "p_gt = np.array([2, 8, 4, 8])\n",
    "x_obs = np.linspace(-20, 30, 50)\n",
    "y_obs = fn(x_obs, p_gt)\n",
    "\n",
    "plt.plot(x_obs, y_obs)\n",
    "plt.show()"
   ]
  },
  {
   "cell_type": "code",
   "execution_count": 7,
   "id": "1918bcd1",
   "metadata": {},
   "outputs": [
    {
     "data": {
      "application/vnd.jupyter.widget-view+json": {
       "model_id": "fa706175952647ec9a936b8a50fec50f",
       "version_major": 2,
       "version_minor": 0
      },
      "text/plain": [
       "HBox(children=(IntProgress(value=0, max=1000), HTML(value='')))"
      ]
     },
     "metadata": {},
     "output_type": "display_data"
    },
    {
     "name": "stdout",
     "output_type": "stream",
     "text": [
      "\n"
     ]
    }
   ],
   "source": [
    "def optimize(x, y, lr = 0.01, iters=1000):\n",
    "    loss = []\n",
    "    k = np.array([[2, 10, 3, 12]]).T\n",
    "    with tqdm.trange(iters) as iterator:\n",
    "        for i in iterator:\n",
    "            r = np.expand_dims(fn(x, np.squeeze(k)) - y, axis=1)\n",
    "            loss.append(np.sum(r ** 2))\n",
    "            j_r = np.vstack([np.exp(-x / k[1, 0]),\n",
    "                             k[0, 0] * np.exp(- x / k[1, 0]) * (x / (k[1, 0] ** 2)),\n",
    "                             np.sin(x / k[3, 0]),\n",
    "                             k[2, 0] * np.cos(x / k[3, 0]) * (-x / (k[3, 0] ** 2))])\n",
    "            j_f = j_r @ r\n",
    "            k = k - lr * j_f\n",
    "            iterator.set_postfix(loss=loss[-1])\n",
    "    return {'training_loss': loss, 'result': k}\n",
    "    \n",
    "history = optimize(x_obs, y_obs)"
   ]
  },
  {
   "cell_type": "code",
   "execution_count": 8,
   "id": "c45252d7",
   "metadata": {
    "scrolled": true
   },
   "outputs": [
    {
     "data": {
      "text/plain": [
       "[<matplotlib.lines.Line2D at 0x7f1115f99700>]"
      ]
     },
     "execution_count": 8,
     "metadata": {},
     "output_type": "execute_result"
    },
    {
     "data": {
      "image/png": "[encoded data removed]",
      "text/plain": [
       "<Figure size 432x288 with 1 Axes>"
      ]
     },
     "metadata": {
      "needs_background": "light"
     },
     "output_type": "display_data"
    }
   ],
   "source": [
    "plt.plot(history['training_loss'])"
   ]
  },
  {
   "cell_type": "code",
   "execution_count": 9,
   "id": "7a37ce64",
   "metadata": {},
   "outputs": [
    {
     "data": {
      "image/png": "[encoded data removed]",
      "text/plain": [
       "<Figure size 432x288 with 1 Axes>"
      ]
     },
     "metadata": {
      "needs_background": "light"
     },
     "output_type": "display_data"
    }
   ],
   "source": [
    "x_obs = np.linspace(-25, 25, 50)\n",
    "y_obs = fn(x_obs, p_gt)\n",
    "k = history['result']\n",
    "y_pred = fn(x_obs, np.squeeze(k))\n",
    "\n",
    "plt.plot(x_obs, y_obs)\n",
    "plt.plot(x_obs, y_pred)\n",
    "plt.show()"
   ]
  },
  {
   "cell_type": "markdown",
   "id": "777c80f6",
   "metadata": {},
   "source": [
    "## 1.3: Different Optimizers\n",
    "\n",
    "Replace gradient descent with Gauss-Newton and Levenberg Marquardt algorithms and repeat question 1.1. \n",
    "\n",
    "To quickly recap, Gauss-Newton and Levenberg Marquardt are alternate update rules to the standard gradient descent. Gauss Newton updates work as:\n",
    "\n",
    "$$\\delta x = -(J^TJ)^{-1}J^Tf(x)$$\n",
    "\n",
    "Levenberg Marquardt lies somewhere between Gauss Newton and Gradient Descent algorithms by blending the two formulations. As a result, when at a steep cliff, LM takes small steps to avoid overshooting, and when at a gentle slope, LM takes bigger steps:\n",
    "\n",
    "\n",
    "$$\\delta x = -(J^TJ + \\lambda I)^{-1}J^Tf(x)$$"
   ]
  },
  {
   "cell_type": "markdown",
   "id": "79191411",
   "metadata": {},
   "source": [
    "**Questions**\n",
    "   * 1. How does the choice of initial estimate and learning rate affect convergence? Observations and analysis from repeated runs with modified hyperparameters will suffice.\n",
    "   * 2. Do you notice any difference between the three optimizers? Why do you think that is? (If you are unable to see a clear trend, what would you expect in general based on what you know about them)"
   ]
  },
  {
   "cell_type": "markdown",
   "id": "54764e5c",
   "metadata": {},
   "source": [
    "### Answer 1\n",
    "\n",
    "The estimate seems to help the convergence a lot, a bad starting estimate will lead to convergence to a local minima. The effect of starting point if there is correct convergence in the end seems to be not a lot, there is a general linear speedup given low learning rates, but no superlinear effects are seen over multiple runs.\n",
    "\n",
    "### Answer 2\n",
    "\n",
    "The first order optimizer, which is Gradient descent performs on average worse, i.e. converges slower, than the second order methods like Gauss Newton. This is because in the same number of steps, more computation is being done, so these methods also take longer. Therefore in the same amount of compute time, gradient descent might be better performing."
   ]
  },
  {
   "cell_type": "markdown",
   "id": "7b9d8713",
   "metadata": {},
   "source": [
    "### Gauss Newtom"
   ]
  },
  {
   "cell_type": "code",
   "execution_count": 10,
   "id": "87b78a04",
   "metadata": {},
   "outputs": [
    {
     "data": {
      "image/png": "[encoded data removed]",
      "text/plain": [
       "<Figure size 432x288 with 1 Axes>"
      ]
     },
     "metadata": {
      "needs_background": "light"
     },
     "output_type": "display_data"
    }
   ],
   "source": [
    "def fn(x, a, m, s):\n",
    "    return a * np.exp(-(x - m) ** 2 / (2 * s * s))\n",
    "\n",
    "a_gt, m_gt, s_gt = 10, 0, 20\n",
    "x_obs = np.linspace(-25, 25, 50)\n",
    "y_obs = fn(x_obs, a_gt, m_gt, s_gt)\n",
    "\n",
    "plt.plot(x_obs, y_obs)\n",
    "plt.show()"
   ]
  },
  {
   "cell_type": "code",
   "execution_count": 11,
   "id": "341ab95c",
   "metadata": {},
   "outputs": [
    {
     "data": {
      "application/vnd.jupyter.widget-view+json": {
       "model_id": "ebc29b9c119948af9674b10fa09bdc99",
       "version_major": 2,
       "version_minor": 0
      },
      "text/plain": [
       "HBox(children=(IntProgress(value=0), HTML(value='')))"
      ]
     },
     "metadata": {},
     "output_type": "display_data"
    },
    {
     "name": "stdout",
     "output_type": "stream",
     "text": [
      "\n"
     ]
    }
   ],
   "source": [
    "def optimize(x, y, iters=100):\n",
    "    loss = []\n",
    "    k = np.array([[10, 13, 19.12]]).T\n",
    "    with tqdm.trange(iters) as iterator:\n",
    "        for i in iterator:\n",
    "            a, m, s = k[0, 0], k[1, 0], k[2, 0]\n",
    "            r = np.expand_dims(fn(x, a, m, s) - y, axis=1)\n",
    "            loss.append(np.sum(r ** 2))\n",
    "            j = np.vstack([                                np.exp(-(x - m) ** 2 / (2 * s * s)),\n",
    "                           (a * (x - m)     ) / (s ** 2) * np.exp(-(x - m) ** 2 / (2 * s * s)),\n",
    "                           (a * (x - m) ** 2) / (s ** 3) * np.exp(-(x - m) ** 2 / (2 * s * s)),]).T\n",
    "            k = k - (np.linalg.inv(j.T @ j) @ j.T) @ r\n",
    "            iterator.set_postfix(loss=loss[-1])\n",
    "    return {'training_loss': loss, 'result': k}\n",
    "    \n",
    "history = optimize(x_obs, y_obs)"
   ]
  },
  {
   "cell_type": "code",
   "execution_count": 12,
   "id": "72bbeb66",
   "metadata": {},
   "outputs": [
    {
     "data": {
      "text/plain": [
       "[<matplotlib.lines.Line2D at 0x7f11155fce80>]"
      ]
     },
     "execution_count": 12,
     "metadata": {},
     "output_type": "execute_result"
    },
    {
     "data": {
      "image/png": "[encoded data removed]",
      "text/plain": [
       "<Figure size 432x288 with 1 Axes>"
      ]
     },
     "metadata": {
      "needs_background": "light"
     },
     "output_type": "display_data"
    }
   ],
   "source": [
    "plt.plot(history['training_loss'])"
   ]
  },
  {
   "cell_type": "code",
   "execution_count": 13,
   "id": "9e520139",
   "metadata": {
    "scrolled": true
   },
   "outputs": [
    {
     "data": {
      "image/png": "[encoded data removed]",
      "text/plain": [
       "<Figure size 432x288 with 1 Axes>"
      ]
     },
     "metadata": {
      "needs_background": "light"
     },
     "output_type": "display_data"
    }
   ],
   "source": [
    "x_obs = np.linspace(-25, 25, 50)\n",
    "y_obs = fn(x_obs, a_gt, m_gt, s_gt)\n",
    "k = history['result']\n",
    "y_pred = fn(x_obs, k[0, 0], k[1, 0], k[2, 0])\n",
    "\n",
    "plt.plot(x_obs, y_obs, 'r')\n",
    "plt.plot(x_obs, y_pred, 'bx')\n",
    "plt.show()"
   ]
  },
  {
   "cell_type": "markdown",
   "id": "3991406c",
   "metadata": {},
   "source": [
    "### Levenberg Marquardt"
   ]
  },
  {
   "cell_type": "code",
   "execution_count": 14,
   "id": "0760e76c",
   "metadata": {},
   "outputs": [
    {
     "data": {
      "application/vnd.jupyter.widget-view+json": {
       "model_id": "825e97f6545444628ee0324a2413fa05",
       "version_major": 2,
       "version_minor": 0
      },
      "text/plain": [
       "HBox(children=(IntProgress(value=0), HTML(value='')))"
      ]
     },
     "metadata": {},
     "output_type": "display_data"
    },
    {
     "name": "stdout",
     "output_type": "stream",
     "text": [
      "\n"
     ]
    }
   ],
   "source": [
    "def optimize(x, y, lr = 0.01, iters=100):\n",
    "    loss = []\n",
    "    k = np.array([[10, 13, 19.12]]).T\n",
    "    with tqdm.trange(iters) as iterator:\n",
    "        for i in iterator:\n",
    "            a, m, s = k[0, 0], k[1, 0], k[2, 0]\n",
    "            r = np.expand_dims(fn(x, a, m, s) - y, axis=1)\n",
    "            loss.append(np.sum(r ** 2))\n",
    "            j = np.vstack([                                np.exp(-(x - m) ** 2 / (2 * s * s)),\n",
    "                           (a * (x - m)     ) / (s ** 2) * np.exp(-(x - m) ** 2 / (2 * s * s)),\n",
    "                           (a * (x - m) ** 2) / (s ** 3) * np.exp(-(x - m) ** 2 / (2 * s * s)),]).T\n",
    "            k = k - (np.linalg.inv(j.T @ j + lr * np.eye(j.shape[1])) @ j.T) @ r\n",
    "            iterator.set_postfix(loss=loss[-1])\n",
    "    return {'training_loss': loss, 'result': k}\n",
    "    \n",
    "history = optimize(x_obs, y_obs)"
   ]
  },
  {
   "cell_type": "code",
   "execution_count": 15,
   "id": "0e71f008",
   "metadata": {
    "scrolled": true
   },
   "outputs": [
    {
     "data": {
      "text/plain": [
       "[<matplotlib.lines.Line2D at 0x7f1115658790>]"
      ]
     },
     "execution_count": 15,
     "metadata": {},
     "output_type": "execute_result"
    },
    {
     "data": {
      "image/png": "[encoded data removed]",
      "text/plain": [
       "<Figure size 432x288 with 1 Axes>"
      ]
     },
     "metadata": {
      "needs_background": "light"
     },
     "output_type": "display_data"
    }
   ],
   "source": [
    "plt.plot(history['training_loss'])"
   ]
  },
  {
   "cell_type": "code",
   "execution_count": 16,
   "id": "99fb92f3",
   "metadata": {},
   "outputs": [
    {
     "data": {
      "image/png": "[encoded data removed]",
      "text/plain": [
       "<Figure size 432x288 with 1 Axes>"
      ]
     },
     "metadata": {
      "needs_background": "light"
     },
     "output_type": "display_data"
    }
   ],
   "source": [
    "x_obs = np.linspace(-25, 25, 50)\n",
    "y_obs = fn(x_obs, a_gt, m_gt, s_gt)\n",
    "k = history['result']\n",
    "y_pred = fn(x_obs, k[0, 0], k[1, 0], k[2, 0])\n",
    "\n",
    "plt.plot(x_obs, y_obs, 'r')\n",
    "plt.plot(x_obs, y_pred, 'bx')\n",
    "plt.show()"
   ]
  },
  {
   "cell_type": "markdown",
   "id": "b65ec432",
   "metadata": {},
   "source": [
    "# 2. Iterative Closest Point\n",
    "\n",
    "In this subsection, we will code the Iterative Closest Point algorithm to find the alignment between two point clouds without known correspondences. The point cloud that you will be using is the same as the one that you used in Assignment 1.\n",
    "\n",
    "## 2.1: Procrustes alignment\n",
    "\n",
    "1. Write a function that takes two point clouds as input wherein the corresponding points between the two point clouds are located at the same index and returns the transformation matrix between them.\n",
    "2. Use the bunny point cloud and perform the procrustes alignment between the two bunnies. Compute the absolute alignment error after aligning the two bunnies.\n",
    "3. Make sure your code is modular as we will use this function in the next sub-part.\n",
    "4. Prove mathematically why the Procrustes alignment gives the best aligning transform between point clouds with known correspondences.\n"
   ]
  },
  {
   "cell_type": "code",
   "execution_count": 17,
   "id": "6a0651ec",
   "metadata": {},
   "outputs": [
    {
     "data": {
      "text/plain": [
       "array([[ 0.707, -0.   ,  0.707,  2.   ],\n",
       "       [ 0.707,  0.   , -0.707,  3.   ],\n",
       "       [ 0.   ,  1.   ,  0.   ,  8.   ],\n",
       "       [ 0.   ,  0.   ,  0.   ,  1.   ]])"
      ]
     },
     "execution_count": 17,
     "metadata": {},
     "output_type": "execute_result"
    }
   ],
   "source": [
    "def make_transform_matrix(theta, delta):\n",
    "    net_rotation = np.eye(3)\n",
    "    for i in range(3):\n",
    "        rot = np.array([\n",
    "            [np.cos(theta[i]), -np.sin(theta[i])],\n",
    "            [np.sin(theta[i]), np.cos(theta[i])],\n",
    "        ])\n",
    "        cur_rotation = np.eye(3)\n",
    "        for x in range(3):\n",
    "            for y in range(3):\n",
    "                cur_rotation[x, y] = rot[x - (1 if x >= i else 0), y - (1 if y >= i else 0)] \\\n",
    "                    if x != i and y != i else x == y\n",
    "        net_rotation = cur_rotation @ net_rotation\n",
    "    \n",
    "    net_transform = np.hstack([net_rotation, np.array(delta)[:, np.newaxis]])\n",
    "    net_transform = np.vstack([net_transform, np.array([0, 0, 0, 1])])\n",
    "    return net_transform\n",
    "\n",
    "transform = make_transform_matrix([np.pi/2, 0, np.pi/4], [2, 3, 8])\n",
    "np.round(transform, decimals=3)"
   ]
  },
  {
   "cell_type": "markdown",
   "id": "4e6073a7",
   "metadata": {},
   "source": [
    "### Answer 1"
   ]
  },
  {
   "cell_type": "code",
   "execution_count": 18,
   "id": "7d5c7dc4",
   "metadata": {},
   "outputs": [],
   "source": [
    "def procrustes(pc_target, pc_observed):\n",
    "    center_pc_target = np.mean(pc_target, axis=1, keepdims=True)\n",
    "    center_pc_observed = np.mean(pc_observed, axis=1, keepdims=True)\n",
    "    \n",
    "    centered_pc_target = pc_target - center_pc_target\n",
    "    centered_pc_observed = pc_observed - center_pc_observed\n",
    "\n",
    "    H = centered_pc_target @ centered_pc_observed.T\n",
    "    U, S, Vt = np.linalg.svd(H)\n",
    "    R = U @ Vt\n",
    "    t = center_pc_target - R @ center_pc_observed\n",
    "\n",
    "    assert np.isclose(np.abs(np.linalg.det(R)), 1), \"Rotation matrix should be unitary\"\n",
    "    if np.linalg.det(R) < 0:\n",
    "        C = np.eye(3)\n",
    "        C[2, 2] = -1\n",
    "        R = U @ C @ Vt\n",
    "\n",
    "    return np.vstack([np.hstack([R, t]), np.array([0, 0, 0, 1])])"
   ]
  },
  {
   "cell_type": "code",
   "execution_count": 19,
   "id": "0112abd5",
   "metadata": {},
   "outputs": [],
   "source": [
    "target_transform_matrix = make_transform_matrix([np.pi * 3/4, 0, np.pi * 2/7], [2, 3, 8])\n",
    "mesh_1 = o3d.io.read_point_cloud(\"data/bunny.pcd\").voxel_down_sample(voxel_size=0.02)\n",
    "mesh_2 = copy.deepcopy(mesh_1).transform(target_transform_matrix)\n",
    "pc_1 = np.asarray(mesh_1.points)\n",
    "pc_2 = np.asarray(mesh_2.points)\n",
    "mesh_1.paint_uniform_color(np.array([0.8, 0.0, 0.0]))\n",
    "mesh_2.paint_uniform_color(np.array([0.0, 0.0, 0.8]))\n",
    "\n",
    "o3d.visualization.draw_geometries([mesh_1.translate([0.001, 0, 0]), mesh_2])\n",
    "icp_transform = procrustes(pc_2.T, pc_1.T)\n",
    "mesh_1.transform(icp_transform)\n",
    "o3d.visualization.draw_geometries([mesh_1.translate([0.001, 0, 0]), mesh_2])"
   ]
  },
  {
   "cell_type": "markdown",
   "id": "473c9924",
   "metadata": {},
   "source": [
    "### Answer 2"
   ]
  },
  {
   "cell_type": "code",
   "execution_count": 20,
   "id": "e6362807",
   "metadata": {},
   "outputs": [
    {
     "name": "stdout",
     "output_type": "stream",
     "text": [
      "(1755, 3) (1755, 3)\n"
     ]
    }
   ],
   "source": [
    "target_transform_matrix = make_transform_matrix([np.pi * 3/4, 0, np.pi * 2/7], [2, 3, 8])\n",
    "\n",
    "mesh_1 = o3d.io.read_point_cloud(\"data/bunny.pcd\").voxel_down_sample(voxel_size=0.02)\n",
    "mesh_2 = copy.deepcopy(mesh_1).transform(target_transform_matrix)\n",
    "\n",
    "pc_1 = np.asarray(mesh_1.points)\n",
    "pc_2 = np.asarray(mesh_2.points)\n",
    "\n",
    "print(pc_1.shape, pc_2.shape)"
   ]
  },
  {
   "cell_type": "code",
   "execution_count": 21,
   "id": "0c14a887",
   "metadata": {
    "scrolled": false
   },
   "outputs": [
    {
     "data": {
      "text/plain": [
       "array([[ 0.623,  0.553,  0.553,  2.   ],\n",
       "       [ 0.782, -0.441, -0.441,  3.   ],\n",
       "       [ 0.   ,  0.707, -0.707,  8.   ],\n",
       "       [ 0.   ,  0.   ,  0.   ,  1.   ]])"
      ]
     },
     "execution_count": 21,
     "metadata": {},
     "output_type": "execute_result"
    }
   ],
   "source": [
    "recovered_transform = procrustes(pc_2.T, pc_1.T)\n",
    "assert np.allclose(target_transform_matrix, recovered_transform)\n",
    "np.round(recovered_transform, decimals=3)"
   ]
  },
  {
   "cell_type": "markdown",
   "id": "90f004c4",
   "metadata": {},
   "source": [
    "### Answer 3\n",
    "\n",
    "It's as modular as can be, as seen by the use above."
   ]
  },
  {
   "cell_type": "markdown",
   "id": "a31efe83",
   "metadata": {},
   "source": [
    "### Answer 4"
   ]
  },
  {
   "cell_type": "markdown",
   "id": "b841e518",
   "metadata": {},
   "source": [
    "Given that we have optimal correspondences, the task at hand is to minimize the mean squared distance from one point cloud to the other.\n",
    "\n",
    "Following is the full derivation of the algorithm, which by nature of computing the minima of the loss function mostly using exact methods (and 1 approximation), leads us to believe that it is indeed correct.\n",
    "\n",
    "So our objective can be written as\n",
    "$$\\mathcal{L} = \\frac{1}{n} \\sum_{i=0}^{N}{(P_i - (R Q_i + t))^2}$$\n",
    "\n",
    "We need to minimize this loss with respect to $R$ and $t$ to get the optimal alignment. So, we minimize first with respect to the tranlation, by differentiating and setting to 0:\n",
    "$$\\frac{\\partial \\mathcal{L}}{\\partial t} = 2 \\frac{1}{n} \\cdot \\sum_{i=1}^{N}{(P_i - (R Q_i + t))} = 0$$\n",
    "We obtain the translation matrix \n",
    "$$t = \\frac{1}{n} \\sum_{i=1}^{N} P_i - \\sum_{i=1}^{N} R Q_i = \\bar{P} - R \\bar{Q}$$\n",
    "\n",
    "Now we can substitute into the objective to obtain the objective in terms of purely rotation:\n",
    "$$\\mathcal{L} = \\frac{1}{n} \\sum_{i=0}^{N}{(P_i - (R Q_i + (\\bar{P} - R \\bar{Q})))^2} = \\frac{1}{n} \\sum_{i=0}^{N}{(P_i - \\bar{P}) - R(Q_i - \\bar{Q})}$$\n",
    "So to compute the rotation, we will have to utilize inequalities, but before that let's make a few substitutions, so let $P - \\bar{P} = X$, $Q - \\bar{Q} = Y$:\n",
    "$$R = \\text{arg}\\max_{R \\in SO(3)} \\mathcal{L}$$\n",
    "Where the objective can we rewritten as:\n",
    "$$\\sum_{i=1}^{N} \\vert\\vert (R X_i - Y_i)^2 \\vert\\vert = Tr((RX - Y)^T (RX - Y)) \\\\ = \\sum_{i = 1}^{N} (\\vert X_i \\vert^2 + \\vert Y_i \\vert^2 - 2 Tr(Y^T RX)$$\n",
    "\n",
    "Now, we can try to minimize, with respect to R, and we note only one of the three terms depends on it, the others can be dropped from our objective while minimizing.\n",
    "Furthermore, we can also factorize $X Y^T = U D V^T$.\n",
    "\n",
    "So $$\\mathcal{L} = Tr(Y^T R X)= Tr(X Y^T R) = Tr(U D V^T R) = Tr(D V^T R U) = \\sum_{i = 1}^{3} D_i V_i^T R U_i \\leq \\sum_{i = 1}^{3} D_i$$\n",
    "This inequality holds since each element in $D V^T U$ is $\\leq 1$, since it is a orthogonal matrix and since all it's column vectors are of magnitude 1, it's components are less than 1.\n",
    "\n",
    "We can assume that the component on the diagonal is exactly 1 in the extremizing case, which will lend all the other coeffecients to be 0, and will mean that in the worst case $V^T R U = I$.\n",
    "\n",
    "Therefore: $$R = V U^T$$\n",
    "\n",
    "Finally, if R has a determinant of -1, then we apply a correction.\n",
    "$R = U C V^T$, where C is the matrix which flips the sign of the last column of V, i.e. it's a diagonal matrix with the last element being -1 if the determinant was -1, 1 otherwise, and all other diagonal elements are always 1."
   ]
  },
  {
   "cell_type": "markdown",
   "id": "7acd601d",
   "metadata": {},
   "source": [
    "## 2.2: ICP alignment\n",
    "\n",
    "1. Write a function that takes two point clouds as input without known correspondences and perform the iterative closest point algorithm.\n",
    "2. Perform the ICP alignment between the two bunnies and plot their individual coordinate frames as done in class.\n",
    "3. Does ICP always give the correct alignment? Why or Why not?\n",
    "4. What are other variants of ICP and why are they helpful (you can look at point to plane ICP)?"
   ]
  },
  {
   "cell_type": "markdown",
   "id": "644c0ff1",
   "metadata": {},
   "source": [
    "### Answer 1"
   ]
  },
  {
   "cell_type": "code",
   "execution_count": 22,
   "id": "ea0b0a5c",
   "metadata": {},
   "outputs": [],
   "source": [
    "def match(x, y):\n",
    "    assert x.shape[0] == 3 and y.shape[0] == 3\n",
    "    d = np.sum(x * x, axis=0)[:, None] - 2 * np.dot(x.T, y) + np.sum(y * y, axis=0)[None, :]\n",
    "    neighbors = np.argmin(d, axis=1)\n",
    "    return neighbors"
   ]
  },
  {
   "cell_type": "code",
   "execution_count": 23,
   "id": "3c795946",
   "metadata": {
    "scrolled": true
   },
   "outputs": [],
   "source": [
    "import time\n",
    "\n",
    "def icp(pc_1, pc_2, epochs=20, visualize=False):\n",
    "    pc_1 = copy.deepcopy(pc_1)\n",
    "    pc_2 = copy.deepcopy(pc_2)\n",
    "\n",
    "    neighbors = match(pc_2.T, pc_1.T)\n",
    "    print(np.sum((pc_1[neighbors] - pc_2) ** 2))\n",
    "    net_transform = np.eye(4)\n",
    "\n",
    "    if visualize:\n",
    "        mesh_1 = o3d.geometry.PointCloud(o3d.utility.Vector3dVector(pc_1))\n",
    "        mesh_2 = o3d.geometry.PointCloud(o3d.utility.Vector3dVector(pc_2))\n",
    "        mesh_1.paint_uniform_color(np.array([0.8, 0.0, 0.0]))\n",
    "        mesh_2.paint_uniform_color(np.array([0.0, 0.0, 0.8]))\n",
    "        o3d.visualization.draw_geometries([mesh_1, mesh_2])\n",
    "        \n",
    "    for i in range(epochs):\n",
    "        neighbors = match(pc_2.T, pc_1.T)\n",
    "        transform = procrustes(pc_2.T, pc_1[neighbors].T)\n",
    "        pc_1 = (np.hstack([pc_1, np.ones(shape=(len(pc_1),1))]) @ transform.T)[:, :3]\n",
    "\n",
    "        net_transform = net_transform @ transform.T\n",
    "\n",
    "        if visualize:\n",
    "            mesh_1 = o3d.geometry.PointCloud(o3d.utility.Vector3dVector(pc_1))\n",
    "            mesh_2 = o3d.geometry.PointCloud(o3d.utility.Vector3dVector(pc_2 + 0.001))\n",
    "            mesh_1.paint_uniform_color(np.array([0.8, 0.0, 0.0]))\n",
    "            mesh_2.paint_uniform_color(np.array([0.0, 0.0, 0.8]))\n",
    "            o3d.visualization.draw_geometries([mesh_1, mesh_2])\n",
    "            \n",
    "        print(np.sum((pc_1[neighbors] - pc_2) ** 2))\n",
    "\n",
    "    return net_transform.T"
   ]
  },
  {
   "cell_type": "code",
   "execution_count": 24,
   "id": "117bb7b8",
   "metadata": {},
   "outputs": [
    {
     "name": "stdout",
     "output_type": "stream",
     "text": [
      "59496.784804043265\n",
      "61.81204000002633\n",
      "13.383969103814442\n",
      "8.140284288349662\n",
      "6.209979106113316\n",
      "5.2553393449335335\n",
      "4.658669314761804\n",
      "4.2876987514590805\n",
      "4.052010810777505\n",
      "3.8792557874990288\n",
      "3.7549511228500116\n",
      "3.6676995894952524\n",
      "3.597709557254996\n",
      "3.543862547316736\n",
      "3.5046694026554737\n",
      "3.473501916046359\n",
      "3.4453397975223217\n",
      "3.422677346338757\n",
      "3.4004692464466695\n",
      "3.3760687600292973\n",
      "3.350445360626276\n",
      "3.3295298523335255\n",
      "3.3123649563553483\n",
      "3.2958051533402606\n",
      "3.2841359153173757\n",
      "3.275112635149703\n",
      "3.2686321805829417\n",
      "3.2618434238471155\n",
      "3.2546679956308333\n",
      "3.2495375442396646\n",
      "3.2446248540374416\n",
      "3.2397015179389244\n",
      "3.2358587659857947\n",
      "3.2320892316691676\n",
      "3.2287058096011965\n",
      "3.2255452343665336\n",
      "3.2217847907427384\n",
      "3.2182171460848714\n",
      "3.2150994543600784\n",
      "3.2122759363255797\n",
      "3.20940738863917\n",
      "3.2070268849927985\n",
      "3.205253870397483\n",
      "3.2037984092362475\n",
      "3.202561877116424\n",
      "3.200685591940859\n",
      "3.198471195291985\n",
      "3.1963092520206056\n",
      "3.1946341639996003\n",
      "3.1932623410208087\n",
      "3.1912868348543366\n"
     ]
    },
    {
     "data": {
      "text/plain": [
       "array([[ 0.82 , -0.567, -0.076,  3.597],\n",
       "       [ 0.544,  0.733,  0.409,  0.946],\n",
       "       [-0.176, -0.377,  0.909,  4.966],\n",
       "       [ 0.   ,  0.   ,  0.   ,  1.   ]])"
      ]
     },
     "execution_count": 24,
     "metadata": {},
     "output_type": "execute_result"
    }
   ],
   "source": [
    "np.random.shuffle(pc_1)\n",
    "np.random.shuffle(pc_2)\n",
    "t = icp(pc_1, pc_2, epochs=50, visualize=False)\n",
    "np.round(t, decimals=3)"
   ]
  },
  {
   "cell_type": "markdown",
   "id": "e2f380f0",
   "metadata": {},
   "source": [
    "### Answer 2"
   ]
  },
  {
   "cell_type": "code",
   "execution_count": null,
   "id": "96bb44d7",
   "metadata": {
    "scrolled": true
   },
   "outputs": [
    {
     "name": "stdout",
     "output_type": "stream",
     "text": [
      "59496.78480404326\n"
     ]
    }
   ],
   "source": [
    "np.random.shuffle(pc_1)\n",
    "np.random.shuffle(pc_2)\n",
    "t = icp(pc_1, pc_2, epochs=5, visualize=True)\n",
    "np.round(t, decimals=3)"
   ]
  },
  {
   "cell_type": "code",
   "execution_count": null,
   "id": "74ffdbf9",
   "metadata": {},
   "outputs": [],
   "source": [
    "transform_ground_truth = make_transform_matrix([np.pi * 0.2, 0, 0], [5, 0, 0])\n",
    "\n",
    "mesh_1 = o3d.io.read_point_cloud(\"data/bunny.pcd\")\n",
    "mesh_2 = copy.deepcopy(mesh_1).transform(transform_ground_truth)\n",
    "mesh_1 = mesh_1.voxel_down_sample(voxel_size=0.01)\n",
    "mesh_2 = mesh_2.voxel_down_sample(voxel_size=0.01)\n",
    "mesh_1.paint_uniform_color(np.array([0.8, 0.0, 0.0]))\n",
    "mesh_2.paint_uniform_color(np.array([0.0, 0.0, 0.8]))\n",
    "o3d.visualization.draw_geometries([mesh_1.translate([0.001, 0, 0]), mesh_2])\n",
    "\n",
    "pc_1 = np.asarray(mesh_1.points)\n",
    "pc_2 = np.asarray(mesh_2.points)\n",
    "np.random.shuffle(pc_1)\n",
    "np.random.shuffle(pc_2)\n",
    "icp_transform = icp(pc_1, pc_2, epochs=10)\n",
    "\n",
    "mesh_1.transform(icp_transform)\n",
    "o3d.visualization.draw_geometries([mesh_1.translate([0.001, 0, 0]), mesh_2])"
   ]
  },
  {
   "cell_type": "markdown",
   "id": "d18a08e8",
   "metadata": {},
   "source": [
    "### Answer 3"
   ]
  },
  {
   "cell_type": "markdown",
   "id": "a90b98a9",
   "metadata": {},
   "source": [
    "ICP does not always give the correct alignment. It is often because when the correspondences are not known, the pose transform is incorrectly computed, and then since it's incorrect, we keep getting incorrect correspondences.\n",
    "\n",
    "**This can be called the problem of the Local Minimia**. Here we have an alignment which looks like a minima, but a large rotation for instance at first worsen the loss, but then using the new correspondence, we will be able to improve the value of the loss in the end. So ICP seems to be a greedy approach and is not always optimal."
   ]
  },
  {
   "cell_type": "markdown",
   "id": "785101ee",
   "metadata": {},
   "source": [
    "### Answer 4"
   ]
  },
  {
   "cell_type": "markdown",
   "id": "6370591e",
   "metadata": {},
   "source": [
    "There are several variants of ICP which take in more information when aligning, a few examples are Point-to-Plane ICP and Generalized ICP:\n",
    "* **Point to Plane ICP:** In this technique, we have points which are sampled from a surface in our point cloud. So to find the pose of the other point cloud, we also incorporate normal information of the surface into the objective function. So the objective function now becomes the following, taking the projected distance along the surface normal as the loss and not the total distance.\n",
    "$$\\mathcal{L} = \\sum_{i = 1}^{n} ((x_i - y_i) \\cdot \\hat{n})^2$$\n",
    "* **Plane to Plane ICP:** In this, we extend the idea of point to plane ICP to projecting along the normal vectors of surface normals computed from \n",
    "* **Generalized ICP:** This is the generalization of point to point and point to plane, where we take local covariances of the points as features so that both the point to plane sort of normal information and the direct point to point information can be incorporated, this is the best technique to try out on a new random problem.\n",
    "\n",
    "Reference: https://youtu.be/2hC9IG6MFD0"
   ]
  }
 ],
 "metadata": {
  "kernelspec": {
   "display_name": "Python 3 (ipykernel)",
   "language": "python",
   "name": "python3"
  },
  "language_info": {
   "codemirror_mode": {
    "name": "ipython",
    "version": 3
   },
   "file_extension": ".py",
   "mimetype": "text/x-python",
   "name": "python",
   "nbconvert_exporter": "python",
   "pygments_lexer": "ipython3",
   "version": "3.8.11"
  }
 },
 "nbformat": 4,
 "nbformat_minor": 5
}
