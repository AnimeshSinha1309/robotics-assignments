{
 "cells": [
  {
   "cell_type": "markdown",
   "id": "exposed-little",
   "metadata": {},
   "source": [
    "# Question 3: Trajectory Evaluation and g2o"
   ]
  },
  {
   "cell_type": "markdown",
   "id": "hearing-bachelor",
   "metadata": {},
   "source": [
    "_Refer to the example notebooks for installation instructions_"
   ]
  },
  {
   "cell_type": "markdown",
   "id": "radio-atlantic",
   "metadata": {},
   "source": [
    "# Evo"
   ]
  },
  {
   "cell_type": "markdown",
   "id": "recognized-booking",
   "metadata": {},
   "source": [
    "So you've implemented 2D SLAM, great! Now, what? We need a measure of how good the trajectory is. The error/loss used earlier doesn't tell us much about how the trajectory differs from the ground truth. Here, we try to do just this - compute error metrics. Rather than computing these from scratch, we will just Evo - https://github.com/MichaelGrupp/evo/."
   ]
  },
  {
   "cell_type": "markdown",
   "id": "amino-command",
   "metadata": {},
   "source": [
    "Look at the absolute pose error (APE) and relative pose error (RPE). What do they capture and how are they calculated (descriptive answer)? How do these metrics differ in methodology? Can we determine if the error is more along the x/y axis?\n",
    "\n",
    "Answer the above questions and report errors for the obtained trajectory."
   ]
  },
  {
   "cell_type": "code",
   "execution_count": 14,
   "id": "be4e1ad8",
   "metadata": {
    "scrolled": false
   },
   "outputs": [
    {
     "name": "stdout",
     "output_type": "stream",
     "text": [
      "Figure(640x480)\n",
      "saved '../results/q2/initial_trajectory.kitti' from '../results/q2/initial_trajectory.g2o'\n",
      "Figure(640x480)\n",
      "saved '../results/q2/optimized_trajectory.kitti' from '../results/q2/optimized_trajectory.g2o'\n",
      "Figure(640x480)\n",
      "saved '../results/q2/ground_truth.kitti' from '../results/q2/ground_truth.g2o'\n"
     ]
    }
   ],
   "source": [
    "!python ../misc/g2o_to_kitti.py ../results/q2/initial_trajectory.g2o ../results/q3/initial_trajectory.kitti\n",
    "!python ../misc/g2o_to_kitti.py ../results/q2/optimized_trajectory.g2o ../results/q3/optimized_trajectory.kitti\n",
    "!python ../misc/g2o_to_kitti.py ../results/q2/ground_truth.g2o ../results/q3/ground_truth.kitti"
   ]
  },
  {
   "cell_type": "code",
   "execution_count": 17,
   "id": "a484c7d0",
   "metadata": {},
   "outputs": [
    {
     "name": "stdout",
     "output_type": "stream",
     "text": [
      "--------------------------------------------------------------------------------\n",
      "Loaded 120 poses from: ../results/q3/ground_truth.kitti\n",
      "Loaded 120 poses from: ../results/q3/optimized_trajectory.kitti\n",
      "--------------------------------------------------------------------------------\n",
      "Compared 120 absolute pose pairs.\n",
      "Calculating APE for translation part pose relation...\n",
      "--------------------------------------------------------------------------------\n",
      "APE w.r.t. translation part (m)\n",
      "(not aligned)\n",
      "\n",
      "       max\t8.879175\n",
      "      mean\t4.701188\n",
      "    median\t5.140916\n",
      "       min\t0.001177\n",
      "      rmse\t5.443855\n",
      "       sse\t3556.266814\n",
      "       std\t2.744883\n",
      "\n",
      "--------------------------------------------------------------------------------\n",
      "Plotting results... \n",
      "\u001b[0m--------------------------------------------------------------------------------\n",
      "Loaded 120 poses from: ../results/q3/ground_truth.kitti\n",
      "Loaded 120 poses from: ../results/q3/optimized_trajectory.kitti\n",
      "--------------------------------------------------------------------------------\n",
      "name:\tground_truth\n",
      "infos:\n",
      "\tnr. of poses\t120\n",
      "\tpath length (m)\t52.976518066459505\n",
      "\tpos_end (m)\t[-2.79999995 -4.5         0.        ]\n",
      "\tpos_start (m)\t[-8.  5.  0.]\n",
      "--------------------------------------------------------------------------------\n",
      "name:\toptimized_trajectory\n",
      "infos:\n",
      "\tnr. of poses\t120\n",
      "\tpath length (m)\t53.769692780671996\n",
      "\tpos_end (m)\t[-0.28628159  2.82472801  0.        ]\n",
      "\tpos_start (m)\t[-8.00062084  4.99900007  0.        ]\n",
      "\u001b[0m"
     ]
    }
   ],
   "source": [
    "!evo_rpe kitti ../results/q3/ground_truth.kitti ../results/q3/optimized_trajectory.kitti -v --plot --plot_mode xy\n",
    "!evo_ape kitti ../results/q3/ground_truth.kitti ../results/q3/optimized_trajectory.kitti -v --plot --plot_mode xy\n",
    "!evo_traj kitti ../results/q3/ground_truth.kitti ../results/q3/optimized_trajectory.kitti -v --plot --plot_mode xy"
   ]
  },
  {
   "cell_type": "markdown",
   "id": "d542ba27",
   "metadata": {},
   "source": [
    "### Absolute Pose Error\n",
    "\n",
    "<img src=\"../results/img/kitti-absolute-pose-error.png\" height=500 width=500 />\n",
    "<img src=\"../results/img/kitti-path-absolute-error.png\" height=500 width=500 />\n",
    "\n",
    "### Relative Pose Error\n",
    "\n",
    "<img src=\"../results/img/kitti-relative-pose-error.png\" height=500 width=500 />\n",
    "<img src=\"../results/img/kitti-path-relative-error.png\" height=500 width=500 />\n",
    "\n",
    "### Plots of Trajectories\n",
    "\n",
    "<img src=\"../results/img/kitti-path-xyz.png\" height=500 width=500 />\n",
    "<img src=\"../results/img/kitti-path-rpy.png\" height=500 width=500 />\n",
    "<img src=\"../results/img/kitti-path-traj.png\" height=500 width=500 />"
   ]
  },
  {
   "cell_type": "markdown",
   "id": "surrounded-anderson",
   "metadata": {},
   "source": [
    "If you're interested, play around with this tool and add any other plots that you think might be relevant/interesting."
   ]
  },
  {
   "cell_type": "markdown",
   "id": "exceptional-charity",
   "metadata": {},
   "source": [
    "# g2o"
   ]
  },
  {
   "cell_type": "markdown",
   "id": "presidential-hayes",
   "metadata": {},
   "source": [
    "Install g2o as mentioned in `examples/g2o.ipynb` and optimise `edges.txt`, the file you used earlier. Also use `g2o_viewer` and optimize `intel` (a trajectory in the Intel research lab) and `sphere`. They should look something like:\n",
    "\n",
    "\n",
    "<table><tr>\n",
    "<td> <img src=\"../misc/intel.jpg\" alt=\"Drawing\" style=\"width: 250px;\"/> </td>\n",
    "<td> <img src=\"../misc/sphere.jpg\" alt=\"Drawing\" style=\"width: 250px;\"/> </td>\n",
    "</tr></table>"
   ]
  },
  {
   "cell_type": "markdown",
   "id": "amino-football",
   "metadata": {},
   "source": [
    "Write briefly about your observations and try out few options in the GUI. What do they do, how do they perform?"
   ]
  },
  {
   "cell_type": "code",
   "execution_count": 23,
   "id": "35cbfd63",
   "metadata": {},
   "outputs": [
    {
     "name": "stdout",
     "output_type": "stream",
     "text": [
      "zsh:1: command not found: g2o\n",
      "zsh:1: command not found: g2o\n"
     ]
    }
   ],
   "source": [
    "!g2o -o ../results/q3/optimized_intel.g2o ../data/intel.g2o\n",
    "!g2o -o ../results/q3/optimized_sphere.g2o ../data/sphere.g2o"
   ]
  },
  {
   "cell_type": "code",
   "execution_count": 24,
   "id": "6ec4e854",
   "metadata": {},
   "outputs": [
    {
     "name": "stdout",
     "output_type": "stream",
     "text": [
      "zsh:1: command not found: g2o_viewer\n",
      "zsh:1: command not found: g2o_viewer\n"
     ]
    }
   ],
   "source": [
    "!g2o_viewer ../results/q3/optimized_intel.g2o \n",
    "!g2o_viewer ../results/q3/optimized_sphere.g2o "
   ]
  },
  {
   "cell_type": "markdown",
   "id": "c0ced22a",
   "metadata": {},
   "source": [
    "<img src=\"../results/img/g2o-intel-map.png\" height=500 width=500 />\n",
    "<img src=\"../results/img/g2o-sphere-map-robust.png\" height=500 width=500 />\n",
    "\n",
    "The most significant effect is of the Robust Kernel, particularly of a large size, the size used is 50. Without that, we get the following results:\n",
    "<img src=\"../results/img/g2o-sphere-map-poor.png\" height=500 width=500 />\n"
   ]
  }
 ],
 "metadata": {
  "kernelspec": {
   "display_name": "Python 3 (ipykernel)",
   "language": "python",
   "name": "python3"
  },
  "language_info": {
   "codemirror_mode": {
    "name": "ipython",
    "version": 3
   },
   "file_extension": ".py",
   "mimetype": "text/x-python",
   "name": "python",
   "nbconvert_exporter": "python",
   "pygments_lexer": "ipython3",
   "version": "3.8.10"
  }
 },
 "nbformat": 4,
 "nbformat_minor": 5
}
