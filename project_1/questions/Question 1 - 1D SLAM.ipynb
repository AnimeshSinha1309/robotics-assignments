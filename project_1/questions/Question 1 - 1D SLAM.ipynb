{
 "cells": [
  {
   "cell_type": "markdown",
   "id": "posted-twist",
   "metadata": {},
   "source": [
    "# Question 1:  Pose Graph Optimization for 1D SLAM"
   ]
  },
  {
   "cell_type": "markdown",
   "id": "chemical-andorra",
   "metadata": {},
   "source": [
    "A solved example for 1D SLAM which optimizes for pose variables using weighted least squares method (Gauss Newton) has been explained in the class. You can view it at `examples/1D-SLAM.ipynb`. Your first task is to code this from scratch.\n",
    "\n",
    "For this section, you have to calculate Jacobian analytically yourself and use it. However, you can check how correct it is using `jax`'s `jacobian`. Its usage is explained in the supplementary notebook (`examples/`)."
   ]
  },
  {
   "cell_type": "markdown",
   "id": "fleet-digest",
   "metadata": {},
   "source": [
    "## How to get started?\n",
    "\n",
    "1. Go through the example and understand the optimization procedure.\n",
    "2. Generate the data as in the example.\n",
    "3. Write the derivatives of the function with respect to the constraints\n",
    "4. Create the final jacobian and write the update steps using Gauss Newton\n",
    "\n",
    "This tiny example will help make sense of the next question, as it's largely just an extension of this."
   ]
  },
  {
   "cell_type": "markdown",
   "id": "tough-brighton",
   "metadata": {},
   "source": [
    "Finally, plot the loop closure constraint, poses, and error at every iteration as well. Since this is a one dimensional example, you can just assume x = y."
   ]
  },
  {
   "cell_type": "code",
   "execution_count": 1,
   "id": "multiple-stomach",
   "metadata": {},
   "outputs": [],
   "source": [
    "import os\n",
    "import math\n",
    "\n",
    "import numpy as np\n",
    "from matplotlib import pyplot as plt\n",
    "import tqdm\n",
    "\n",
    "import jax\n",
    "\n",
    "plt.style.use('ggplot')"
   ]
  },
  {
   "cell_type": "markdown",
   "id": "d5a6981e",
   "metadata": {},
   "source": [
    "### SLAM Algorithm"
   ]
  },
  {
   "cell_type": "code",
   "execution_count": 2,
   "id": "focal-identification",
   "metadata": {},
   "outputs": [],
   "source": [
    "odometry = np.array([1.1, 1.0, 1.1, -2.7, 0])\n",
    "\n",
    "sigma = np.diag(np.array([0.01] * 5 + [0.001]))\n",
    "points = ((0, 1), (1, 2), (2, 3), (3, 4), (0, 4))\n",
    "\n",
    "\n",
    "def errors(positions, odometry):\n",
    "    errors_list = np.zeros(len(points) + 1)\n",
    "    for idx, (point_u, point_v) in enumerate(points):\n",
    "        # Going from u to v using odometry vs. going using computed \n",
    "        errors_list[idx] = positions[point_u] + odometry[idx] - positions[point_v]\n",
    "    errors_list[-1] = positions[0]\n",
    "    return errors_list\n",
    "\n",
    "\n",
    "def loss_fn(positions: np.ndarray, odometry: np.ndarray) -> float:\n",
    "    xy = errors(positions, odometry)\n",
    "    xy = np.expand_dims(xy, axis=1)\n",
    "    loss = xy.T @ sigma @ xy\n",
    "    return np.squeeze(loss)\n",
    "\n",
    "\n",
    "def train(odometry):\n",
    "    weights = np.linalg.inv(sigma)\n",
    "    pos_guess = np.array([np.sum(odometry[:i]) for i in range(len(odometry))])\n",
    "    history = {'loss': []}\n",
    "\n",
    "    with tqdm.trange(5) as iterator:\n",
    "        loss = loss_fn(pos_guess, odometry)\n",
    "        iterator.set_postfix(loss=loss)\n",
    "        history['loss'].append(loss)\n",
    "\n",
    "        for epoch in iterator:\n",
    "            J = np.array([\n",
    "                [ 1, -1,  0,  0,  0],\n",
    "                [ 0,  1, -1,  0,  0],\n",
    "                [ 0,  0,  1, -1,  0],\n",
    "                [ 0,  0,  0,  1, -1],\n",
    "                [ 1,  0,  0,  0, -1],\n",
    "                [ 1,  0,  0,  0,  0],\n",
    "            ])\n",
    "            fx = errors(pos_guess, odometry)\n",
    "            H = J.T @ weights @ J\n",
    "            b = J.T @ weights.T @ fx\n",
    "            dx = -b @ np.linalg.inv(H)\n",
    "            pos_guess = pos_guess + dx\n",
    "\n",
    "            loss = loss_fn(pos_guess, odometry)\n",
    "            history['loss'].append(loss)\n",
    "            iterator.set_postfix(loss=loss)\n",
    "\n",
    "        history['result'] = pos_guess\n",
    "        return history"
   ]
  },
  {
   "cell_type": "markdown",
   "id": "e8adbba1",
   "metadata": {},
   "source": [
    "### Seeing the Results"
   ]
  },
  {
   "cell_type": "code",
   "execution_count": 3,
   "id": "2e0918f9",
   "metadata": {},
   "outputs": [
    {
     "name": "stderr",
     "output_type": "stream",
     "text": [
      "100%|████████████████| 5/5 [00:00<00:00, 124.65it/s, loss=0.0004999999999999991]\n"
     ]
    }
   ],
   "source": [
    "history = train(odometry)"
   ]
  },
  {
   "cell_type": "code",
   "execution_count": 4,
   "id": "d96df1ee",
   "metadata": {},
   "outputs": [
    {
     "data": {
      "image/png": "[encoded data removed]",
      "text/plain": [
       "<Figure size 432x288 with 1 Axes>"
      ]
     },
     "metadata": {},
     "output_type": "display_data"
    }
   ],
   "source": [
    "fix, ax = plt.subplots(1, 1)\n",
    "ax.plot(history['loss'])\n",
    "ax.set_title('Loss Curve')\n",
    "ax.set_xlabel('Epoch')\n",
    "ax.set_ylabel('Loss Value')\n",
    "plt.show()"
   ]
  },
  {
   "cell_type": "code",
   "execution_count": 5,
   "id": "b94938b8",
   "metadata": {},
   "outputs": [
    {
     "name": "stdout",
     "output_type": "stream",
     "text": [
      "[-0.   1.   1.9  2.9  0.1]\n"
     ]
    }
   ],
   "source": [
    "print(np.round(history['result'], decimals=4))"
   ]
  },
  {
   "cell_type": "markdown",
   "id": "57854951",
   "metadata": {},
   "source": [
    "### Test Jacobian against JAX"
   ]
  },
  {
   "cell_type": "code",
   "execution_count": 6,
   "id": "17685357",
   "metadata": {},
   "outputs": [
    {
     "name": "stderr",
     "output_type": "stream",
     "text": [
      "WARNING:absl:No GPU/TPU found, falling back to CPU. (Set TF_CPP_MIN_LOG_LEVEL=0 and rerun for more info.)\n"
     ]
    }
   ],
   "source": [
    "import jax.numpy as jnp\n",
    "\n",
    "def errors(positions, odometry):\n",
    "    errors_list = []\n",
    "    for idx, (point_u, point_v) in enumerate(points):\n",
    "        errors_list.append(positions[point_u] + odometry[point_u] - positions[point_v])\n",
    "    errors_list.append(positions[0])\n",
    "    return jnp.array(errors_list)\n",
    "\n",
    "p = jnp.array([np.sum(odometry[:i]) for i in range(len(odometry))])\n",
    "o = jnp.array([1.1, 1.0, 1.1, -2.7, 0])\n",
    "\n",
    "J_jax = (jax.jacfwd(errors))(p, o)\n",
    "J_math = np.array([\n",
    "    [ 1, -1,  0,  0,  0],\n",
    "    [ 0,  1, -1,  0,  0],\n",
    "    [ 0,  0,  1, -1,  0],\n",
    "    [ 0,  0,  0,  1, -1],\n",
    "    [ 1,  0,  0,  0, -1],\n",
    "    [ 1,  0,  0,  0,  0],\n",
    "])\n",
    "assert np.allclose(J_jax, J_math), \"Jacobian was incorrectly computed, check against JAX\""
   ]
  }
 ],
 "metadata": {
  "kernelspec": {
   "display_name": "Python 3 (ipykernel)",
   "language": "python",
   "name": "python3"
  },
  "language_info": {
   "codemirror_mode": {
    "name": "ipython",
    "version": 3
   },
   "file_extension": ".py",
   "mimetype": "text/x-python",
   "name": "python",
   "nbconvert_exporter": "python",
   "pygments_lexer": "ipython3",
   "version": "3.8.11"
  }
 },
 "nbformat": 4,
 "nbformat_minor": 5
}
