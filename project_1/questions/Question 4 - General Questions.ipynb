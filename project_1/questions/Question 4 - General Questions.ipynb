{
 "cells": [
  {
   "cell_type": "markdown",
   "id": "mexican-confirmation",
   "metadata": {},
   "source": [
    "# Question 4: General Theory/Application"
   ]
  },
  {
   "cell_type": "markdown",
   "id": "entitled-cleaners",
   "metadata": {},
   "source": [
    "_No need to be verbose, it's not fun for anyone_"
   ]
  },
  {
   "cell_type": "markdown",
   "id": "remarkable-hindu",
   "metadata": {},
   "source": [
    "1. What part of S**L**A**M** did this project deal with? Why? What does the other part deal with and how would it generally work, given that you only have LIDAR scans, RGB video stream, and noisy pose data for a moving robot?\n",
    "\n",
    "\n",
    "2. Loop closures play an important role in reducing drift, how would you go about detecting these?\n",
    "\n",
    "\n",
    "3. Explain the structure of your Jacobian. Is the pose-graph fully connected? Why/Why not?\n",
    "\n",
    "\n",
    "4. With what you know now, how would you describe and differentiate the SLAM frontend and backend? Why do we need to optimise our poses/map in the first place - where does the noise come from/why?"
   ]
  },
  {
   "cell_type": "markdown",
   "id": "abstract-bones",
   "metadata": {},
   "source": [
    "_Your Answer_"
   ]
  },
  {
   "cell_type": "markdown",
   "id": "5ee186c4",
   "metadata": {},
   "source": [
    "### Answer 1"
   ]
  },
  {
   "cell_type": "markdown",
   "id": "462eb444",
   "metadata": {},
   "source": [
    "This project deals with the **SLAM Backend**. We have the odometry and sensor data available to us, as well as the predicted trasforms between the sensed images using ICP or similar algorithm. This project starts with the SLAM problem after the SLAM frontend has generated an initial estimate of the pose transforms between the different observations, and has some belief state on the n points, and the SLAM backend serves to **optimize out the errors** using Loop closures as a trick.\n",
    "\n",
    "Given many different kinds of sensors, like LIDAR, RGB, Odometry, etc. we can use each of them to compute the relative pose independently using an ICP like algorithm which will be a part of the SLAM frontend. Then we write all that data as constraints and attach appropriate weights to them, and feed it to the SLAM backend, where the ICP SLAM algorithm helps find coordinates which minimizes the weighted loss from all those sensors."
   ]
  },
  {
   "cell_type": "markdown",
   "id": "eb5aeedb",
   "metadata": {},
   "source": [
    "### Answer 2"
   ]
  },
  {
   "cell_type": "markdown",
   "id": "935b956d",
   "metadata": {},
   "source": [
    "There are many possible methods to detect loop closures, some examples are given below:\n",
    "* Move along the edges of the environment, detect loop closure on clearly visible corners the surroundings of which are clearly mapped.\n",
    "* Try to find image correspondences in the two position of exact landmark features like a set of vertices in the visible objects."
   ]
  },
  {
   "cell_type": "markdown",
   "id": "5b9c733e",
   "metadata": {},
   "source": [
    "### Answer 3"
   ]
  },
  {
   "cell_type": "markdown",
   "id": "6ce61286",
   "metadata": {},
   "source": [
    "The Jacobian is spase. The graph is a **single connected component**, but it's **not fully connected**, it is infact **very sparse**. This is so because we have only connected the consecutive points in the graph and the loop closures are connected, so in our jacobian only those terms which for each constraint involve the right variable are non-zero, the others are all zero.\n",
    "\n",
    "So each row has only very few, i.e. 3-6 typically non-zero elements."
   ]
  },
  {
   "cell_type": "markdown",
   "id": "d5745c50",
   "metadata": {},
   "source": [
    "Our Jacobian is the derivative of all of our residuals, i.e. the terms we want to minimize, with respect to the  :\n",
    "\n",
    "\\begin{bmatrix}\n",
    "    \\frac{\\partial \\text{anchor $x$}}                   {\\partial x_1} & \\frac{\\partial \\text{anchor $x$}}                   {\\partial y_1} & \\frac{\\partial \\text{anchor $x$}}                   {\\partial \\theta_1} & \\frac{\\partial \\text{anchor $x$}}                   {\\partial x_2} & \\ldots & \\frac{\\partial \\text{anchor $x$}}                   {\\partial theta_n} \\\\\n",
    "    \\frac{\\partial \\text{anchor $y$}}                   {\\partial x_1} & \\frac{\\partial \\text{anchor $y$}}                   {\\partial y_1} & \\frac{\\partial \\text{anchor $y$}}                   {\\partial \\theta_1} & \\frac{\\partial \\text{anchor $y$}}                   {\\partial x_2} & \\ldots & \\frac{\\partial \\text{anchor $y$}}                   {\\partial theta_n} \\\\\n",
    "    \\frac{\\partial \\text{anchor $\\theta$}}              {\\partial x_1} & \\frac{\\partial \\text{anchor $\\theta$}}              {\\partial y_1} & \\frac{\\partial \\text{anchor $\\theta$}}              {\\partial \\theta_1} & \\frac{\\partial \\text{anchor $\\theta$}}              {\\partial x_2} & \\ldots & \\frac{\\partial \\text{anchor $\\theta$}}              {\\partial theta_n} \\\\\n",
    "    \\frac{\\partial \\text{odometry edge 1 $x$}}          {\\partial x_1} & \\frac{\\partial \\text{odometry edge 1 $x$}}          {\\partial y_1} & \\frac{\\partial \\text{odometry edge 1 $x$}}          {\\partial \\theta_1} & \\frac{\\partial \\text{odometry edge 1 $x$}}          {\\partial x_2} & \\ldots & \\frac{\\partial \\text{odometry edge 1 $x$}}          {\\partial theta_n} \\\\\n",
    "    \\frac{\\partial \\text{odometry edge 1 $y$}}          {\\partial x_1} & \\frac{\\partial \\text{odometry edge 1 $y$}}          {\\partial y_1} & \\frac{\\partial \\text{odometry edge 1 $y$}}          {\\partial \\theta_1} & \\frac{\\partial \\text{odometry edge 1 $y$}}          {\\partial x_2} & \\ldots & \\frac{\\partial \\text{odometry edge 1 $y$}}          {\\partial theta_n} \\\\\n",
    "    \\frac{\\partial \\text{odometry edge 1 $\\theta$}}     {\\partial x_1} & \\frac{\\partial \\text{odometry edge 1 $\\theta$}}     {\\partial y_1} & \\frac{\\partial \\text{odometry edge 1 $\\theta$}}     {\\partial \\theta_1} & \\frac{\\partial \\text{odometry edge 1 $\\theta$}}     {\\partial x_2} & \\ldots & \\frac{\\partial \\text{odometry edge 1 $\\theta$}}     {\\partial theta_n} \\\\\n",
    "    \\frac{\\partial \\text{odometry edge 2 $x$}}          {\\partial x_1} & \\frac{\\partial \\text{odometry edge 2 $x$}}          {\\partial y_1} & \\frac{\\partial \\text{odometry edge 2 $x$}}          {\\partial \\theta_1} & \\frac{\\partial \\text{odometry edge 2 $x$}}          {\\partial x_2} & \\ldots & \\frac{\\partial \\text{odometry edge 2 $x$}}          {\\partial theta_n} \\\\\n",
    "    \\frac{\\partial \\text{odometry edge 2 $y$}}          {\\partial x_1} & \\frac{\\partial \\text{odometry edge 2 $y$}}          {\\partial y_1} & \\frac{\\partial \\text{odometry edge 2 $y$}}          {\\partial \\theta_1} & \\frac{\\partial \\text{odometry edge 2 $y$}}          {\\partial x_2} & \\ldots & \\frac{\\partial \\text{odometry edge 2 $y$}}          {\\partial theta_n} \\\\\n",
    "    \\frac{\\partial \\text{odometry edge 2 $\\theta$}}     {\\partial x_1} & \\frac{\\partial \\text{odometry edge 2 $\\theta$}}     {\\partial y_1} & \\frac{\\partial \\text{odometry edge 2 $\\theta$}}     {\\partial \\theta_1} & \\frac{\\partial \\text{odometry edge 2 $\\theta$}}     {\\partial x_2} & \\ldots & \\frac{\\partial \\text{odometry edge 2 $\\theta$}}     {\\partial theta_n} \\\\\n",
    "    \\ldots\\\\\n",
    "    \\frac{\\partial \\text{odometry edge $n_e$ $x$}}      {\\partial x_1} & \\frac{\\partial \\text{odometry edge $n_e$ $x$}}      {\\partial y_1} & \\frac{\\partial \\text{odometry edge $n_e$ $x$}}      {\\partial \\theta_1} & \\frac{\\partial \\text{odometry edge $n_e$ $x$}}      {\\partial x_2} & \\ldots & \\frac{\\partial \\text{odometry edge $n_e$ $x$}}      {\\partial theta_n} \\\\\n",
    "    \\frac{\\partial \\text{odometry edge $n_e$ $y$}}      {\\partial x_1} & \\frac{\\partial \\text{odometry edge $n_e$ $y$}}      {\\partial y_1} & \\frac{\\partial \\text{odometry edge $n_e$ $y$}}      {\\partial \\theta_1} & \\frac{\\partial \\text{odometry edge $n_e$ $y$}}      {\\partial x_2} & \\ldots & \\frac{\\partial \\text{odometry edge $n_e$ $y$}}      {\\partial theta_n} \\\\\n",
    "    \\frac{\\partial \\text{odometry edge $n_e$ $\\theta$}} {\\partial x_1} & \\frac{\\partial \\text{odometry edge $n_e$ $\\theta$}} {\\partial y_1} & \\frac{\\partial \\text{odometry edge $n_e$ $\\theta$}} {\\partial \\theta_1} & \\frac{\\partial \\text{odometry edge $n_e$ $\\theta$}} {\\partial x_2} & \\ldots & \\frac{\\partial \\text{odometry edge $n_e$ $\\theta$}} {\\partial theta_n} \\\\\n",
    "    \\frac{\\partial \\text{loop closure 1 $x$}}           {\\partial x_1} & \\frac{\\partial \\text{loop closure 1 $x$}}           {\\partial y_1} & \\frac{\\partial \\text{loop closure 1 $x$}}           {\\partial \\theta_1} & \\frac{\\partial \\text{loop closure 1 $x$}}           {\\partial x_2} & \\ldots & \\frac{\\partial \\text{loop closure 1 $x$}}           {\\partial theta_n} \\\\\n",
    "    \\frac{\\partial \\text{loop closure 1 $y$}}           {\\partial x_1} & \\frac{\\partial \\text{loop closure 1 $y$}}           {\\partial y_1} & \\frac{\\partial \\text{loop closure 1 $y$}}           {\\partial \\theta_1} & \\frac{\\partial \\text{loop closure 1 $y$}}           {\\partial x_2} & \\ldots & \\frac{\\partial \\text{loop closure 1 $y$}}           {\\partial theta_n} \\\\\n",
    "    \\frac{\\partial \\text{loop closure 1 $\\theta$}}      {\\partial x_1} & \\frac{\\partial \\text{loop closure 1 $\\theta$}}      {\\partial y_1} & \\frac{\\partial \\text{loop closure 1 $\\theta$}}      {\\partial \\theta_1} & \\frac{\\partial \\text{loop closure 1 $\\theta$}}      {\\partial x_2} & \\ldots & \\frac{\\partial \\text{loop closure 1 $\\theta$}}      {\\partial theta_n} \\\\\n",
    "    \\frac{\\partial \\text{loop closure 2 $x$}}           {\\partial x_1} & \\frac{\\partial \\text{loop closure 2 $x$}}           {\\partial y_1} & \\frac{\\partial \\text{loop closure 2 $x$}}           {\\partial \\theta_1} & \\frac{\\partial \\text{loop closure 2 $x$}}           {\\partial x_2} & \\ldots & \\frac{\\partial \\text{loop closure 2 $x$}}           {\\partial theta_n} \\\\\n",
    "    \\frac{\\partial \\text{loop closure 2 $y$}}           {\\partial x_1} & \\frac{\\partial \\text{loop closure 2 $y$}}           {\\partial y_1} & \\frac{\\partial \\text{loop closure 2 $y$}}           {\\partial \\theta_1} & \\frac{\\partial \\text{loop closure 2 $y$}}           {\\partial x_2} & \\ldots & \\frac{\\partial \\text{loop closure 2 $y$}}           {\\partial theta_n} \\\\\n",
    "    \\frac{\\partial \\text{loop closure 2 $\\theta$}}      {\\partial x_1} & \\frac{\\partial \\text{loop closure 2 $\\theta$}}      {\\partial y_1} & \\frac{\\partial \\text{loop closure 2 $\\theta$}}      {\\partial \\theta_1} & \\frac{\\partial \\text{loop closure 2 $\\theta$}}      {\\partial x_2} & \\ldots & \\frac{\\partial \\text{loop closure 2 $\\theta$}}      {\\partial theta_n} \\\\\n",
    "    \\ldots\\\\\n",
    "    \\frac{\\partial \\text{loop closure $n_l$ $x$}}       {\\partial x_1} & \\frac{\\partial \\text{loop closure $n_l$ $x$}}       {\\partial y_1} & \\frac{\\partial \\text{loop closure $n_l$ $x$}}       {\\partial \\theta_1} & \\frac{\\partial \\text{loop closure $n_l$ $x$}}       {\\partial x_2} & \\ldots & \\frac{\\partial \\text{loop closure $n_l$ $x$}}       {\\partial theta_n} \\\\\n",
    "    \\frac{\\partial \\text{loop closure $n_l$ $y$}}       {\\partial x_1} & \\frac{\\partial \\text{loop closure $n_l$ $y$}}       {\\partial y_1} & \\frac{\\partial \\text{loop closure $n_l$ $y$}}       {\\partial \\theta_1} & \\frac{\\partial \\text{loop closure $n_l$ $y$}}       {\\partial x_2} & \\ldots & \\frac{\\partial \\text{loop closure $n_l$ $y$}}       {\\partial theta_n} \\\\\n",
    "    \\frac{\\partial \\text{loop closure $n_l$ $\\theta$}}  {\\partial x_1} & \\frac{\\partial \\text{loop closure $n_l$ $\\theta$}}  {\\partial y_1} & \\frac{\\partial \\text{loop closure $n_l$ $\\theta$}}  {\\partial \\theta_1} & \\frac{\\partial \\text{loop closure $n_l$ $\\theta$}}  {\\partial x_2} & \\ldots & \\frac{\\partial \\text{loop closure $n_l$ $\\theta$}}  {\\partial theta_n} \\\\\n",
    "\\end{bmatrix}\n"
   ]
  },
  {
   "cell_type": "markdown",
   "id": "e343f4fd",
   "metadata": {},
   "source": [
    "### Answer 4"
   ]
  },
  {
   "attachments": {},
   "cell_type": "markdown",
   "id": "39b783bf",
   "metadata": {},
   "source": [
    "![SLAM Frontend and Backend](../misc/slam-frontend-backend.png)"
   ]
  },
  {
   "cell_type": "markdown",
   "id": "ee8a2b6f",
   "metadata": {},
   "source": [
    "The SLAM algorithm has 2 parts:\n",
    "* The SLAM Frontend includes the sensor information gatering from LIDAR, Odometry, RGBD Cameras and pose estimation by ICP algorithm, etc. It also involves detecting loop closures, etc.\n",
    "* The SLAM Backend involves taking this pose and object data and generation the maps and the localization information from it.\n",
    "\n",
    "We need to correct for noise since it comes from a variety of sources:\n",
    "* The real world is moving, so our observations correspondences aren't guarenteed to be correct. One object moving slightly in a room makes the problem underdefined.\n",
    "* The sensors have several sources of errors. Motors aren't perfect, wheels skid a little, cameras aren't infinitely stable, and all small errors accumulate over time to become significant."
   ]
  }
 ],
 "metadata": {
  "kernelspec": {
   "display_name": "Python 3 (ipykernel)",
   "language": "python",
   "name": "python3"
  },
  "language_info": {
   "codemirror_mode": {
    "name": "ipython",
    "version": 3
   },
   "file_extension": ".py",
   "mimetype": "text/x-python",
   "name": "python",
   "nbconvert_exporter": "python",
   "pygments_lexer": "ipython3",
   "version": "3.8.10"
  }
 },
 "nbformat": 4,
 "nbformat_minor": 5
}
