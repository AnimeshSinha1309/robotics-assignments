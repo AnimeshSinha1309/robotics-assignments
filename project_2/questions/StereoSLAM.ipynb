{
 "cells": [
  {
   "cell_type": "markdown",
   "metadata": {},
   "source": [
    "# Stereo SLAM"
   ]
  },
  {
   "cell_type": "markdown",
   "metadata": {},
   "source": [
    "This is a major part of this project and will likely take some time. \n",
    "\n",
    "For stereo, feel free to look up existing tutorials that implement this and write your own code here. Do not spend too long tweaking parameters here, focus on getting decent results and move on. You can also use OpenCV functions to backproject to 3D."
   ]
  },
  {
   "cell_type": "markdown",
   "metadata": {},
   "source": [
    "## PART 1: Stereo dense reconstruction\n",
    "\n",
    "3-D point clouds are very useful in robotics for several tasks such as object detection, motion estimation (3D-3D matching or 3D-2D matching), SLAM, and other forms of scene understanding.  Stereo cameras provide  us  with  a  convenient  way  to  generate  dense  point  clouds. Dense here,  in  contrast  to sparse, means all the image points are used for the reconstruction.  In this part of the assignment you will be generating a dense 3D point cloud reconstruction of a scene from stereo images.\n",
    "\n",
    "#### Procedure: \n",
    "\n",
    "<ol>\n",
    "    <li> Generate a disparity map for each stereo pair.  Use OpenCV (e.g.  StereoSGBM) for this.  Notethat the images provided are already rectified and undistorted. </li>\n",
    "    <li> Then, using the camera parameters and baseline information generate colored point clouds from each disparity map.  Some points will have invalid disparity values, so ignore them.  Use [Open3D]for storing your point clouds. </li>\n",
    "    <li> Register (or transform) all the generated point clouds into your world frame by using the provided ground truth poses. </li>\n",
    "    <li> Visualize the registered point cloud data, in color. Use Open3D for this. </li>\n",
    "</ol>\n",
    "    \n",
    "    \n",
    "Write briefly about how the disparity map is generated (if you used SGBM, write about SGBM)."
   ]
  },
  {
   "cell_type": "code",
   "execution_count": null,
   "metadata": {},
   "outputs": [],
   "source": [
    "import os\n",
    "import time\n",
    "\n",
    "import numpy as np \n",
    "import cv2 as cv\n",
    "import tqdm.notebook as tqdm\n",
    "\n",
    "import seaborn as sns\n",
    "from matplotlib import pyplot as plt\n",
    "\n",
    "import open3d as o3d"
   ]
  },
  {
   "cell_type": "code",
   "execution_count": 2,
   "metadata": {},
   "outputs": [],
   "source": [
    "transformations = np.loadtxt(\"../data/poses.txt\")\n",
    "\n",
    "with open(\"../data/calib.txt\", \"r\") as f:\n",
    "    temp_data = f.readlines()\n",
    "    calib_k = np.array(list(map(float, temp_data[1].strip().split()))).reshape(3, 3)\n",
    "    calib_d = float(temp_data[4].split()[0])"
   ]
  },
  {
   "cell_type": "code",
   "execution_count": 54,
   "metadata": {},
   "outputs": [],
   "source": [
    "os.makedirs(\"../results/\", exist_ok=True)\n",
    "\n",
    "for file_name in sorted(os.listdir(\"../data/img2\"))[:2]:\n",
    "    img_path_l = os.path.join(\"../data/img2\", file_name)\n",
    "    img_path_r = os.path.join(\"../data/img3\", file_name)\n",
    "    # Use OpenCV to generate disparity map\n",
    "    img_l = cv.cvtColor(cv.imread(img_path_l), cv.COLOR_BGR2GRAY)\n",
    "    img_r = cv.cvtColor(cv.imread(img_path_r), cv.COLOR_BGR2GRAY)\n",
    "    win_size, min_disp = 3, 16\n",
    "    stereo = cv.StereoSGBM_create(\n",
    "        minDisparity = min_disp,\n",
    "        numDisparities = 144 - min_disp,\n",
    "        blockSize = 7,\n",
    "        disp12MaxDiff = 1,\n",
    "        speckleWindowSize = 400,\n",
    "        speckleRange = 5,\n",
    "        uniquenessRatio = 12,\n",
    "        P1 = 8 * 3 * (win_size ** 2),\n",
    "        P2 = 32 * 3 * (win_size ** 2),\n",
    "    )\n",
    "    disparity = stereo.compute(img_l, img_r).astype(np.float32) / 16.0 \n",
    "    disparity += abs(disparity.min())\n",
    "    # Create reverse projection matrix\n",
    "    img = cv.imread(img_path_l)\n",
    "    h, w = img.shape[0], img.shape[1]\n",
    "    f = 7.070912e+02\n",
    "    rev_proj_matrix = np.float32([\n",
    "        [1,  0,          0, -0.5*w],\n",
    "        [0, -1,          0,  0.5*h], \n",
    "        [0,  0,          0,     -f], \n",
    "        [0,  0, -1/calib_d,      0]\n",
    "    ])\n",
    "    # 3D points from disparity map and reverse projection matrix\n",
    "    points = cv.reprojectImageTo3D(disparity, rev_proj_matrix)\n",
    "    colors = cv.cvtColor(img, cv.COLOR_BGR2RGB)  \n",
    "    # Remove the outlier points that have 0 depth\n",
    "    mask = disparity > disparity.min()\n",
    "    points = points[mask]\n",
    "    colors = colors[mask]\n",
    "    # Write the generated cloud to files\n",
    "    with open(os.path.join(\"../results\", file_name[: -4] + \".ply\"), 'w') as f:\n",
    "        f.write(f\"\"\"ply\n",
    "            format ascii 1.0\n",
    "            element vertex {len(points)}\n",
    "            property float x\n",
    "            property float y\n",
    "            property float z\n",
    "            property uchar red\n",
    "            property uchar green\n",
    "            property uchar blue\n",
    "            end_header\n",
    "        \"\"\")\n",
    "        np.savetxt(\n",
    "            f,\n",
    "            np.hstack([\n",
    "                points.reshape(-1,3), \n",
    "                colors.reshape(-1,3)\n",
    "            ]),\n",
    "            '%f %f %f %d %d %d'\n",
    "        )"
   ]
  },
  {
   "cell_type": "code",
   "execution_count": 109,
   "metadata": {},
   "outputs": [],
   "source": [
    "combined_pcd = o3d.geometry.PointCloud()\n",
    "for idx, file in enumerate(sorted(os.listdir(\"../results/\"))):\n",
    "    pcd = o3d.io.read_point_cloud(os.path.join(\"../results/\", file[:-4] + \".ply\"))\n",
    "    transformation_matrix = np.vstack((transformations[idx].reshape(3, 4), [0, 0, 0, 1]))\n",
    "    transformation_matrix[:3, :3] = transformation_matrix[:3, :3].T\n",
    "    pcd = pcd.transform(transformation_matrix)\n",
    "    combined_pcd += pcd\n",
    "\n",
    "o3d.visualization.draw_geometries([combined_pcd])"
   ]
  },
  {
   "cell_type": "code",
   "execution_count": null,
   "metadata": {},
   "outputs": [],
   "source": [
    "win = o3d.visualization.Visualizer()\n",
    "win.create_window()\n",
    "combined_pcd = o3d.geometry.PointCloud()\n",
    "for idx, file in enumerate(sorted(os.listdir(\"../results/\"))):\n",
    "    pcd = o3d.io.read_point_cloud(os.path.join(\"../results/\", file[:-4] + \".ply\"))\n",
    "    transformation_matrix = np.vstack((transformations[idx].reshape(3, 4), [0, 0, 0, 1]))\n",
    "    transformation_matrix[:3, :3] = transformation_matrix[:3, :3].T\n",
    "    pcd = pcd.transform(transformation_matrix)\n",
    "    combined_pcd += pcd\n",
    "    win.add_geometry(combined_pcd)\n",
    "    win.poll_events()\n",
    "    win.update_renderer()\n",
    "    time.sleep(0.20)\n",
    "    win.remove_geometry(combined_pcd)\n",
    "win.poll_events()\n",
    "win.destroy_window()"
   ]
  },
  {
   "cell_type": "markdown",
   "metadata": {},
   "source": [
    "![image.png](../img/stereo_slam_image.png)"
   ]
  },
  {
   "cell_type": "markdown",
   "metadata": {},
   "source": [
    "## PART 2: Motion estimation using iterative PnP\n",
    "\n",
    "Using the generated reconstruction from the previous part, synthesize a new image taken by a virtualmonocular camera fixed at any arbitrary position and orientation.  Your task in this part is to recoverthis pose using an iterative Perspective-from-n-Points (PnP) algorithm. \n",
    "\n",
    "#### Procedure: \n",
    "\n",
    "<ol>\n",
    "    <li> Obtain a set of 2D-3D correspondences between the the image and the point cloud.  Since hereyou’re generating the image, this should be easy to obtain. </li>\n",
    "    <li> For this set of correspondences compute the total reprojection error c= $\\sum_{i} ‖x_i−P_{k}X_i‖^2 $    where $P_{k}= K[R_{k}|t_{k}]$, $X_{i}$ is the 3D point in the world frame, $x_{i}$ is its corresponding projection. </li>\n",
    "    <li> Solve for the pose $T_{k}$ that minimizes this non-linear reprojection error using a Gauss-Newton (GN)scheme.  Recall that in GN we start with some initial estimated value $x_{o}$ and iteratively refine the estimate using $x_{1}$= $∆x+x_0$, where $∆x$ is obtained by solving the normal equations $J^{T}J∆x$= -$J^{T}e$, until convergence.The main steps in this scheme are computing the corresponding Jacobians and updating the estimates correctly.  For our problem,  use a 12×1 vector parameterization for $T_{k}$(the top 3×4submatrix).  Run the optimization for different choices of initialization and report your observations. </li>\n",
    "</ol>\n",
    "\n",
    "Make sure that you write about how you calculate the residual and jacobians. Do not just include the code. The pose that you have been given is the ground truth, so using that will obviously give good results for optimization, so try out something else as well."
   ]
  },
  {
   "cell_type": "code",
   "execution_count": 171,
   "metadata": {
    "scrolled": true
   },
   "outputs": [
    {
     "data": {
      "text/plain": [
       "<matplotlib.image.AxesImage at 0x7f9c50e1ebe0>"
      ]
     },
     "execution_count": 171,
     "metadata": {},
     "output_type": "execute_result"
    },
    {
     "data": {
      "image/png": "[encoded data removed]",
      "text/plain": [
       "<Figure size 432x288 with 1 Axes>"
      ]
     },
     "metadata": {
      "needs_background": "light"
     },
     "output_type": "display_data"
    }
   ],
   "source": [
    "transform = transformations[np.random.randint(len(transformations))].reshape(3, 4)\n",
    "r = transform[:, :3]\n",
    "t = transform[:, 3:]\n",
    "k = np.triu(np.random.random(size=(3, 3)))\n",
    "\n",
    "p = k @ np.concatenate([r, t], axis=1)\n",
    "\n",
    "pts_3d = np.asarray(combined_pcd.points)\n",
    "pts_3d = np.concatenate([pts_3d, np.ones(shape=(len(combined_pcd.points), 1))], axis=1)\n",
    "pts_2d = (p @ pts_3d.T).T\n",
    "pts_2d = (pts_2d / pts_2d[:, 2:])[:, :2]\n",
    "\n",
    "bot, top = np.min(pts_2d, axis=0), np.max(pts_2d, axis=0)\n",
    "image_points = ((pts_2d - bot) / (top - bot) * np.array([127, 127])).astype(np.int64)\n",
    "image = np.zeros(shape=(128, 128))\n",
    "for image_point in image_points:\n",
    "    image[image_point[0], image_point[1]] += 1\n",
    "plt.imshow(image)"
   ]
  },
  {
   "cell_type": "code",
   "execution_count": 174,
   "metadata": {},
   "outputs": [
    {
     "name": "stdout",
     "output_type": "stream",
     "text": [
      "[[-4.9317154e-01  2.5565118e-01 -5.6546187e-01 -6.1166351e+01]\n",
      " [ 2.9818426e-04  8.6880326e-01 -5.0070286e-01  2.8316097e+01]\n",
      " [-1.0831092e-03  2.0362968e-03 -5.0216608e-02  2.5067995e+00]]\n"
     ]
    }
   ],
   "source": [
    "import jax\n",
    "import jax.numpy as jnp\n",
    "\n",
    "proj = jnp.array(p)\n",
    "print(proj)"
   ]
  },
  {
   "cell_type": "markdown",
   "metadata": {},
   "source": [
    "## PART 3: Odometry Calculation\n",
    "\n",
    "In part 1, you used the ground truth pose for registration. Here, try to estimate the pose using the RGB image data alone. \n",
    "\n",
    "#### Procedure:\n",
    "\n",
    "1. This can be done by computing features across the two images and matching them. Since you already have the depth map, you now have correspondences between the depth maps of two images as well from the RGB feature matches. \n",
    "2. You can now convert this depth map to a point cloud.\n",
    "3. Since you have correspondences between image points in the depth map, you have 3D correspondences here as well. Perform ICP here to get a good pose estimate.\n",
    "4. Feed these initial pose estimates into the PnP pipeline and optimise further."
   ]
  },
  {
   "cell_type": "code",
   "execution_count": null,
   "metadata": {},
   "outputs": [],
   "source": []
  }
 ],
 "metadata": {
  "kernelspec": {
   "display_name": "mobile-robotics",
   "language": "python",
   "name": "mobile-robotics"
  },
  "language_info": {
   "codemirror_mode": {
    "name": "ipython",
    "version": 3
   },
   "file_extension": ".py",
   "mimetype": "text/x-python",
   "name": "python",
   "nbconvert_exporter": "python",
   "pygments_lexer": "ipython3",
   "version": "3.8.12"
  }
 },
 "nbformat": 4,
 "nbformat_minor": 4
}
