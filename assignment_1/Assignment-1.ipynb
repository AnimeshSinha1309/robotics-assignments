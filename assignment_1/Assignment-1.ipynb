{
 "cells": [
  {
   "cell_type": "markdown",
   "id": "6197036e",
   "metadata": {},
   "source": [
    "# Assignment-1: Transformations and representations\n",
    "\n",
    "Team Name: BayesianMechanics \n",
    "\n",
    "Roll number: 2018113001 2018113002"
   ]
  },
  {
   "cell_type": "markdown",
   "id": "6ca7312e",
   "metadata": {},
   "source": [
    "# Instructions\n",
    "\n",
    "- Code must be written in Python in Jupyter Notebooks. We highly recommend using anaconda distribution or at the minimum, virtual environments for this assignment. See `Set Up` for detailed step-by-step instructions about the installation setup.\n",
    "- Save all your results in ```results/<question_number>/<sub_topic_number>/```\n",
    "- The **References** section provides you with important resources to solve the assignment.\n",
    "- For this assignment, you will be using Open3D extensively. Refer to [Open3D Documentation](http://www.open3d.org/docs/release/): you can use the in-built methods and **unless explicitly mentioned**, don't need to code from scratch for this assignment. \n",
    "- Make sure your code is modular since you may need to reuse parts for future assignments.\n",
    "- Answer the descriptive questions in your own words with context & clarity. Do not copy answers from online resources or lecture notes.\n",
    "- The **deadline** for this assignment is on 11/09/2021 at 11:55pm. Please note that there will be no extensions.\n",
    "- Plagiarism is **strictly prohibited**.\n"
   ]
  },
  {
   "cell_type": "markdown",
   "id": "21cf27bc",
   "metadata": {},
   "source": [
    "# Submission Instructions\n",
    "\n",
    "1. Make sure your code runs without any errors after reinitializing the kernel and removing all saved variables.\n",
    "2. After completing your code and saving your results, zip the folder with name as ``Team_<team_name>_MR2021_Assignment_<assignment_number>.zip``"
   ]
  },
  {
   "cell_type": "markdown",
   "id": "15c0eab9",
   "metadata": {},
   "source": [
    "# Set Up\n",
    "\n",
    "We highly recommend using anaconda distribution or at the minimum, virtual environments for this assignment. All assignments will be python based, hence familiarising yourself with Python is essential.\n"
   ]
  },
  {
   "cell_type": "markdown",
   "id": "ba35bf2b",
   "metadata": {},
   "source": [
    "## Setting up Anaconda environment (Recommended)\n",
    "\n",
    "1. Install Anaconda or Miniconda from [here](https://docs.conda.io/projects/conda/en/latest/user-guide/install/linux.html) depending on your requirements.\n",
    "2. Now simply run `conda env create -f environment.yml` in the current folder to create an environment `mr_assignment1` (`environment.yml` can be found in `misc/`).\n",
    "3. Activate it using `conda activate mr_assignment1`.\n",
    "\n",
    "## Setting up Virtual environment using venv\n",
    "\n",
    "You can also set up a virtual environment using venv\n",
    "\n",
    "1. Run `sudo apt-get install python3-venv` from command line.\n",
    "2. `python3 -m venv ~/virtual_env/mr_assignment1`. (you can set the environment path to anything)\n",
    "3. `source ~/virtual_env/mr_assignment1/bin/activate`\n",
    "4. `pip3 install -r requirements.txt` from the current folder (`requirements.txt` can be found in `misc/`)."
   ]
  },
  {
   "cell_type": "code",
   "execution_count": 15,
   "id": "ce4a4036",
   "metadata": {},
   "outputs": [],
   "source": [
    "import time\n",
    "\n",
    "import open3d as o3d\n",
    "import numpy as np"
   ]
  },
  {
   "cell_type": "markdown",
   "id": "154345a6",
   "metadata": {},
   "source": [
    "# 1. Getting started with Open3D\n",
    "\n",
    "Open3D is an open-source library that deals with 3D data, such as point clouds, mesh. We'll be using Open3D frequently as we work with point clouds. Let's start with something simple:\n",
    "\n",
    "<img src=\"misc/bunny.jpg\" alt=\"drawing\" width=\"200\"/>\n",
    "\n",
    "1. Read the Stanford Bunny file (in `data/`) given to you and visualise it using Open3D.\n",
    "2. Convert the mesh to a point cloud and change the colour of points.\n",
    "3. Set a predefined viewing angle (using Open3D) for visualization and display the axes while plotting.\n",
    "4. Scale, Transform, and Rotate the rabbit (visualise after each step).\n",
    "5. Save the point cloud as bunny.pcd."
   ]
  },
  {
   "cell_type": "markdown",
   "id": "785a67cf",
   "metadata": {},
   "source": [
    "### Question 1-a-1 "
   ]
  },
  {
   "cell_type": "code",
   "execution_count": 16,
   "id": "f0710005",
   "metadata": {
    "scrolled": true
   },
   "outputs": [],
   "source": [
    "mesh = o3d.io.read_triangle_mesh(\"data/bunny.ply\")\n",
    "o3d.visualization.draw_geometries([mesh], mesh_show_back_face=True)"
   ]
  },
  {
   "cell_type": "markdown",
   "id": "4826ac90",
   "metadata": {},
   "source": [
    "### Question 1-a-2"
   ]
  },
  {
   "cell_type": "code",
   "execution_count": 17,
   "id": "745c4d8a",
   "metadata": {},
   "outputs": [],
   "source": [
    "pcd = o3d.geometry.PointCloud()\n",
    "pcd.points = mesh.vertices\n",
    "pcd.paint_uniform_color(np.array([0.8, 0.0, 0.0]))\n",
    "pcd.normals = mesh.vertex_normals\n",
    "o3d.visualization.draw_geometries([pcd])"
   ]
  },
  {
   "cell_type": "markdown",
   "id": "289a1513",
   "metadata": {},
   "source": [
    "### Question 1-a-3"
   ]
  },
  {
   "cell_type": "code",
   "execution_count": 18,
   "id": "b96cf36c",
   "metadata": {},
   "outputs": [],
   "source": [
    "mesh = o3d.geometry.TriangleMesh.create_coordinate_frame(size=0.1)\n",
    "o3d.visualization.draw_geometries([pcd, mesh], zoom=2.0, front=[-1, 0, 0], up=[0, 1, 0], lookat=[0, 0, 0],\n",
    "                                  mesh_show_wireframe=True)"
   ]
  },
  {
   "cell_type": "markdown",
   "id": "5733381a",
   "metadata": {},
   "source": [
    "### Question 1-a-4"
   ]
  },
  {
   "cell_type": "code",
   "execution_count": 19,
   "id": "b5c0ce62",
   "metadata": {},
   "outputs": [],
   "source": [
    "pcd.scale(2.0, center=np.zeros(3))\n",
    "o3d.visualization.draw_geometries([pcd, mesh], zoom=2.0, front=[-1, 0, 0], up=[0, 1, 0], lookat=[0, 0, 0],\n",
    "                                  mesh_show_wireframe=True)\n",
    "pcd.rotate(np.array([\n",
    "    [np.cos(30), -np.sin(30), 0],\n",
    "    [np.sin(30),  np.cos(30), 0],\n",
    "    [         0,           0, 1],\n",
    "]))\n",
    "o3d.visualization.draw_geometries([pcd, mesh], zoom=2.0, front=[-1, 0, 0], up=[0, 1, 0], lookat=[0, 0, 0],\n",
    "                                  mesh_show_wireframe=True)\n",
    "\n",
    "pcd.translate(np.array([1.0, 1.0, 1.0]))\n",
    "o3d.visualization.draw_geometries([pcd, mesh], zoom=2.0, front=[-1, 0, 0], up=[0, 1, 0], lookat=[0, 0, 0],\n",
    "                                  mesh_show_wireframe=True)"
   ]
  },
  {
   "cell_type": "markdown",
   "id": "abae5f66",
   "metadata": {},
   "source": [
    "### Question 1-a-5"
   ]
  },
  {
   "cell_type": "code",
   "execution_count": 20,
   "id": "505ede6d",
   "metadata": {},
   "outputs": [
    {
     "data": {
      "text/plain": [
       "True"
      ]
     },
     "execution_count": 20,
     "metadata": {},
     "output_type": "execute_result"
    }
   ],
   "source": [
    "o3d.io.write_point_cloud('data/bunny.pcd', pcd)"
   ]
  },
  {
   "cell_type": "markdown",
   "id": "f4868351",
   "metadata": {},
   "source": [
    "# 2. Transformations and representations"
   ]
  },
  {
   "cell_type": "markdown",
   "id": "3b2c1270",
   "metadata": {},
   "source": [
    "## a) Euler angles\n",
    "1. Write a function that returns a rotation matrix given the angles $\\alpha$, $\\beta$, and $\\gamma$ in radians (X-Y-Z)\n",
    "\n",
    "2. Solve for angles using ```fsolve from scipy``` for three initializations of your choice and compare.\n",
    "$$M(\\alpha , \\beta ,\\gamma)=\\left[\\begin{array}{rrr}0.26200263 & -0.19674724 & 0.944799 \\\\0.21984631 & 0.96542533 & 0.14007684 \\\\\n",
    "    -0.93969262 & 0.17101007 & 0.29619813\\end{array}\\right] \n",
    "$$\n",
    "\n",
    "$$N(\\alpha , \\beta ,\\gamma)=\\left[\\begin{array}{rrr}0 & -0.173648178 &  0.984807753 \\\\0 & 0.984807753 & 0.173648178 \\\\\n",
    "    -1 & 0 & 0\\end{array}\\right] \n",
    "$$\n",
    "\n",
    "3. What is a Gimbal lock? \n",
    "\n",
    "4. Show an example where a Gimbal lock occurs and visualize the Gimbal lock on the given bunny point cloud. You have to show the above by **animation** (cube rotating along each axis one by one).\n",
    "    - *Hint: Use Open3D's non-blocking visualization and discretize the rotation to simulate the animation. For example, if you want to rotate by $30^{\\circ}$ around a particular axis, do in increments of $5^{\\circ}$ 6 times to make it look like an animation.*\n"
   ]
  },
  {
   "cell_type": "markdown",
   "id": "2836a809",
   "metadata": {},
   "source": [
    "### Question 2-a-1"
   ]
  },
  {
   "cell_type": "code",
   "execution_count": 21,
   "id": "d106a316",
   "metadata": {},
   "outputs": [
    {
     "data": {
      "text/plain": [
       "array([[ 0.707, -0.   ,  0.707],\n",
       "       [ 0.707,  0.   , -0.707],\n",
       "       [ 0.   ,  1.   ,  0.   ]])"
      ]
     },
     "execution_count": 21,
     "metadata": {},
     "output_type": "execute_result"
    }
   ],
   "source": [
    "def make_rotation_matrix(theta):\n",
    "    net_rotation = np.eye(3)\n",
    "    for i in range(3):\n",
    "        rot = np.array([\n",
    "            [np.cos(theta[i]), -np.sin(theta[i])],\n",
    "            [np.sin(theta[i]), np.cos(theta[i])],\n",
    "        ])\n",
    "        cur_rotation = np.eye(3)\n",
    "        for x in range(3):\n",
    "            for y in range(3):\n",
    "                cur_rotation[x, y] = rot[x - (1 if x >= i else 0), y - (1 if y >= i else 0)] \\\n",
    "                    if x != i and y != i else x == y\n",
    "        net_rotation = cur_rotation @ net_rotation\n",
    "    return net_rotation\n",
    "\n",
    "np.round(make_rotation_matrix([np.pi/2, 0, np.pi/4]), decimals=3)"
   ]
  },
  {
   "cell_type": "markdown",
   "id": "a9938e53",
   "metadata": {},
   "source": [
    "### Question 2-a-2"
   ]
  },
  {
   "cell_type": "code",
   "execution_count": 32,
   "id": "6d0cb995",
   "metadata": {},
   "outputs": [
    {
     "name": "stdout",
     "output_type": "stream",
     "text": [
      "Euler Angles X-Y-Z for M in degrees: [ 30.00000026 -70.00000009  40.00000001]\n",
      "Euler Angles X-Y-Z for N in degrees: [ 45.7137304  -90.          55.71373042]\n"
     ]
    }
   ],
   "source": [
    "from scipy.optimize import fsolve\n",
    "\n",
    "M = np.array([\n",
    "    [ 0.26200263, -0.19674724,   0.944799],\n",
    "    [ 0.21984631,  0.96542533, 0.14007684],\n",
    "    [-0.93969262,  0.17101007, 0.29619813]\n",
    "])\n",
    "N = np.array([\n",
    "    [          0, -0.173648178, 0.984807753],\n",
    "    [          0,  0.984807753, 0.173648178],\n",
    "    [         -1,            0,           0]\n",
    "])\n",
    "\n",
    "print(\"Euler Angles X-Y-Z for M in degrees:\",\n",
    "    fsolve(lambda x: np.reshape(make_rotation_matrix(x) - M, -1), np.random.random(9))[:3] * 180 / np.pi)\n",
    "print(\"Euler Angles X-Y-Z for N in degrees:\",\n",
    "    fsolve(lambda x: np.reshape(make_rotation_matrix(x) - N, -1), np.random.random(9))[:3] * 180 / np.pi)"
   ]
  },
  {
   "cell_type": "markdown",
   "id": "fa495a5a",
   "metadata": {},
   "source": [
    "### Question 2-a-3"
   ]
  },
  {
   "cell_type": "markdown",
   "id": "f939cf64",
   "metadata": {},
   "source": [
    "Gimble lock is the state when there is a system with 3 nested rotational degrees of freedom, and due to the parallel alignment of two of the outer rotation planes, the rotation effect produced by rotating two of the three rotors is the same. Therefore, the system has lost a degree of freedom."
   ]
  },
  {
   "attachments": {
    "image.png": {
     "image/png": "[encoded data removed]"
    }
   },
   "cell_type": "markdown",
   "id": "d2e3be9d",
   "metadata": {},
   "source": [
    "Image from: https://www.researchgate.net/figure/llustrates-the-principle-of-gimbal-lock-The-outer-blue-frame-represents-the-x-axis-the_fig4_338835648\n",
    "\n",
    "![image.png](attachment:image.png)"
   ]
  },
  {
   "cell_type": "markdown",
   "id": "a51cd0aa",
   "metadata": {},
   "source": [
    "### Question 2-a-4"
   ]
  },
  {
   "cell_type": "markdown",
   "id": "0f3ca1bb",
   "metadata": {},
   "source": [
    "In the following animation, we do two sets of operations to the bunny.\n",
    "1. Initially both (axis 1 and axis 2) the gimbal axes are aligned, i.e. they are in the same plane, we see that the effect or rotating along axis 1 and axis 3 is the same. We can see this alignment in the first loop since the angle of rotation of the axis 2 is set to 90 degrees, that is it's in the plane.\n",
    "2. Now the gimbal lock is removed, since the axis 2 is set to 0 degrees, the whole system is unlocked, and rotation along axis 1 and axis 3 gives different results."
   ]
  },
  {
   "cell_type": "code",
   "execution_count": 23,
   "id": "b759e1e8",
   "metadata": {},
   "outputs": [],
   "source": [
    "mesh = o3d.io.read_triangle_mesh(\"data/bunny.ply\")\n",
    "pcd = o3d.geometry.PointCloud()\n",
    "pcd.points = mesh.vertices\n",
    "pcd.paint_uniform_color(np.array([0.8, 0.0, 0.0]))\n",
    "pcd.normals = mesh.vertex_normals\n",
    "\n",
    "rotation_axis = o3d.geometry.TriangleMesh.create_coordinate_frame(size=0.08)\n",
    "static_axis = o3d.geometry.TriangleMesh.create_coordinate_frame(size=0.05)\n",
    "\n",
    "# Initialization of the Window and Objects\n",
    "win = o3d.visualization.Visualizer()\n",
    "win.create_window()\n",
    "for obj in [pcd, rotation_axis, static_axis]:\n",
    "    win.add_geometry(obj)\n",
    "win.poll_events()\n",
    "win.update_renderer()\n",
    "\n",
    "steps = 100\n",
    "\n",
    "# Rotations in the locked position\n",
    "\n",
    "last_rotation = np.eye(3)\n",
    "for angle_x, angle_z in list(zip(np.linspace(0, 2 * np.pi, steps), np.zeros(steps))) +\\\n",
    "                        list(zip(np.zeros(steps), np.linspace(0, 2 * np.pi, steps))):\n",
    "    target_rotation = make_rotation_matrix([angle_x, np.pi / 2, angle_z])\n",
    "    cur_rotation = target_rotation @ last_rotation.T\n",
    "    last_rotation = target_rotation\n",
    "    time.sleep(0.05)\n",
    "    for obj in [pcd, rotation_axis]:\n",
    "        obj.rotate(cur_rotation, center=np.zeros(3))\n",
    "        win.update_geometry(obj)\n",
    "    win.poll_events()\n",
    "    win.update_renderer()        \n",
    "\n",
    "time.sleep(1)\n",
    "win.poll_events()\n",
    "win.update_renderer()        \n",
    "\n",
    "# Rotations in the unlocked position\n",
    "\n",
    "last_rotation = np.eye(3)\n",
    "for angle_x, angle_z in list(zip(np.linspace(0, 2 * np.pi, steps), np.zeros(steps))) +\\\n",
    "                        list(zip(np.zeros(steps), np.linspace(0, 2 * np.pi, steps))):\n",
    "    target_rotation = make_rotation_matrix([angle_x, 0, angle_z])\n",
    "    cur_rotation = target_rotation @ last_rotation.T\n",
    "    last_rotation = target_rotation\n",
    "    time.sleep(0.05)\n",
    "    for obj in [pcd, rotation_axis]:\n",
    "        obj.rotate(cur_rotation, center=np.zeros(3))\n",
    "        win.update_geometry(obj)\n",
    "    win.poll_events()\n",
    "    win.update_renderer()\n",
    "\n",
    "time.sleep(1)\n",
    "\n",
    "win.destroy_window()"
   ]
  },
  {
   "cell_type": "markdown",
   "id": "bc81d563",
   "metadata": {},
   "source": [
    "## b) Quaternions\n",
    "\n",
    "1. What makes Quaternions popular in graphics? \n",
    "2. Convert a rotation matrix to quaternion and vice versa. Do not use inbuilt libraries for this question.\n",
    "3. Perform matrix multiplication of two $\\mathcal{R}_{3 \\times 3}$ rotation matrices and perform the same transformation in the quaternion space. Verify if the final transformation obtained in both the cases are the same.\n",
    "4. Try to interpolate any 3D model (cube / bunny / not sphere obviously!!) between two rotation matrices and visualize!\n",
    "\n",
    "The above questions require you to **code your own functions** and **only verify** using inbuilt functions."
   ]
  },
  {
   "cell_type": "markdown",
   "id": "1926b724",
   "metadata": {},
   "source": [
    "### Question 2-b-1"
   ]
  },
  {
   "cell_type": "markdown",
   "id": "6de2e28d",
   "metadata": {},
   "source": [
    "Quaternions form a number system in a hyper-sphere's surface (in 4D space), which helps in performing rotations in 3D space. We know that complex numbers help us rotate vectors in 2D space, so multiplication by 2D number rotates the 2D number. However, we cannot use 3D numbers to rotate the 3D coordinate frame, since points on a 3D sphere have 2 degrees of freedom, but the 3D coordinate frame has 3 degrees of freedom, so we need Quaternions to rotate them.\n",
    "\n",
    "Quaternions are great since they allow easy manipulation, i.e. rotating around some arbitrary vector, composing two rotations by multiplying them, etc. They do not have the issues of gimbal lock."
   ]
  },
  {
   "cell_type": "markdown",
   "id": "6d6e5397",
   "metadata": {},
   "source": [
    "### Question 2-b-2"
   ]
  },
  {
   "cell_type": "code",
   "execution_count": 33,
   "id": "c4e14c66",
   "metadata": {},
   "outputs": [],
   "source": [
    "# Formulae for conversion inspired from \n",
    "# https://www.euclideanspace.com/maths/geometry/rotations/conversions/matrixToQuaternion/\n",
    "\n",
    "def quaternion_to_matrix(q):\n",
    "    return np.array([\n",
    "        [2 * (q[0] * q[0] + q[1] * q[1]) - 1, 2 * (q[1] * q[2] - q[0] * q[3]), 2 * (q[1] * q[3] + q[0] * q[2])],\n",
    "        [2 * (q[1] * q[2] + q[0] * q[3]), 2 * (q[0] * q[0] + q[2] * q[2]) - 1, 2 * (q[2] * q[3] - q[0] * q[1])],\n",
    "        [2 * (q[1] * q[3] - q[0] * q[2]), 2 * (q[2] * q[3] + q[0] * q[1]), 2 * (q[0] * q[0] + q[3] * q[3]) - 1],\n",
    "    ])\n",
    "\n",
    "def matrix_to_quaternion(m):\n",
    "    if np.trace(m) > 0: \n",
    "      s = np.sqrt(np.trace(m) + 1.0) * 2;\n",
    "      return np.array([0.25 * s, (m[2, 1] - m[1, 2]) / s, (m[0, 2] - m[2, 0]) / s, (m[1, 0] - m[0, 1]) / s]) \n",
    "    elif m[0, 0] > m[1, 1] and m[0, 0] > m[2, 2]:\n",
    "      s = np.sqrt(1.0 + m[0, 0] - m[1, 1] - m[2, 2]) * 2 \n",
    "      return np.array([(m[2, 1] - m[1, 2]) / s, 0.25 * s, (m[0, 1] + m[1, 0]) / s, (m[0, 2] + m[2, 0]) / s]) \n",
    "    elif m[1, 1] > m[2, 2]:\n",
    "      s = np.sqrt(1.0 + m[1, 1] - m[0, 0] - m[2, 2]) * 2\n",
    "      return np.array([(m[0, 2] - m[2, 0]) / s, (m[0, 1] + m[1, 0]) / s, 0.25 * s, (m[1, 2] + m[2, 1]) / s])\n",
    "    else:\n",
    "      s = np.sqrt(1.0 + m[2, 2] - m[0, 0] - m[1, 1]) * 2\n",
    "      return np.array([(m[1, 0] - m[0, 1]) / s, (m[0, 2] + m[2, 0]) / s, (m[1, 2] + m[2, 1]) / s, 0.25 * s])"
   ]
  },
  {
   "cell_type": "markdown",
   "id": "06711af9",
   "metadata": {},
   "source": [
    "### Question 2-b-3"
   ]
  },
  {
   "cell_type": "code",
   "execution_count": 34,
   "id": "26192a16",
   "metadata": {},
   "outputs": [],
   "source": [
    "def multiply_quaternion(q1, q2):\n",
    "    return np.array([\n",
    "        q1[0] * q2[0] - q1[1] * q2[1] - q1[2] * q2[2] - q1[3] * q2[3],\n",
    "        q1[0] * q2[1] + q1[1] * q2[0] + q1[2] * q2[3] - q1[3] * q2[2],\n",
    "        q1[0] * q2[2] + q1[2] * q2[0] + q1[3] * q2[1] - q1[1] * q2[3],\n",
    "        q1[0] * q2[3] + q1[3] * q2[0] + q1[1] * q2[2] - q1[2] * q2[1],\n",
    "    ])\n",
    "\n",
    "\n",
    "X = make_rotation_matrix(np.array([np.pi / 4, 0, np.pi / 3]))\n",
    "assert np.allclose(X @ X,\n",
    "                   quaternion_to_matrix(multiply_quaternion(matrix_to_quaternion(X), matrix_to_quaternion(X))))"
   ]
  },
  {
   "cell_type": "code",
   "execution_count": 37,
   "id": "767e862b",
   "metadata": {},
   "outputs": [
    {
     "name": "stdout",
     "output_type": "stream",
     "text": [
      "[[ 0.2347894  -0.22699327  0.94517088]\n",
      " [ 0.27269257 -0.91792469 -0.28818921]\n",
      " [ 0.9330127   0.32540485 -0.15361961]]\n",
      "[[ 0.2347894  -0.22699327  0.94517088]\n",
      " [ 0.27269257 -0.91792469 -0.28818921]\n",
      " [ 0.9330127   0.32540485 -0.15361961]]\n"
     ]
    }
   ],
   "source": [
    "X = make_rotation_matrix(np.array([np.pi / 4, 0, np.pi / 3]))\n",
    "Y = make_rotation_matrix(np.array([np.pi / 5, np.pi / 4, np.pi / 3]))\n",
    "print(X @ Y)\n",
    "print(quaternion_to_matrix(multiply_quaternion(matrix_to_quaternion(X), matrix_to_quaternion(Y))))"
   ]
  },
  {
   "cell_type": "code",
   "execution_count": 38,
   "id": "dc472cc4",
   "metadata": {},
   "outputs": [],
   "source": [
    "interpolate = (np.asarray(pcd.points) @ make_rotation_matrix([\n",
    "    np.pi / 4, np.pi / 8, 0]) + np.asarray(pcd.points)) / 2\n",
    "\n",
    "cloud = o3d.geometry.PointCloud()\n",
    "cloud.points = o3d.utility.Vector3dVector(interpolate)\n",
    "cloud.paint_uniform_color(np.array([0.8, 0.0, 0.0]))\n",
    "cloud.normals = mesh.vertex_normals\n",
    "\n",
    "o3d.visualization.draw_geometries([cloud], zoom=2.0, front=[-1, 0, 0], up=[0, 1, 0], lookat=[0, 0, 0],\n",
    "                                  mesh_show_wireframe=True)"
   ]
  },
  {
   "cell_type": "markdown",
   "id": "185f5bde",
   "metadata": {},
   "source": [
    "## c) Exponential maps (Bonus)\n",
    "\n",
    "1. What is the idea behind exponential map representation of rotation matrices?\n",
    "2. Perform matrix exponentiation and obtain the rotation matrix to rotate a vector $P$ around $\\omega$ for $\\theta$ seconds.\n",
    "$$\n",
    "\\omega = \\begin{bmatrix}2 \\\\ 1 \\\\ 15 \\end{bmatrix}\n",
    "$$\n",
    "\n",
    "$$\n",
    "\\theta = 4.1364\n",
    "$$\n",
    "\n",
    "3. Compute the logarithmic map (SO(3) to so(3)) of the rotation matrix to obtain the rotation vector and the angle of rotation\n",
    "$$\n",
    "\\begin{bmatrix}\n",
    "0.1 &  -0.9487 & 0.3 \\\\\n",
    "0.9487 & 0.  & -0.3162 \\\\\n",
    "0.3   &  0.3162  & 0.9 \n",
    "\\end{bmatrix}\n",
    "$$\n",
    "You can use inbuilt libraries **only to verify** your results."
   ]
  },
  {
   "cell_type": "markdown",
   "id": "50be0b51",
   "metadata": {},
   "source": [
    "### Question 2-c-1"
   ]
  },
  {
   "cell_type": "markdown",
   "id": "c9c1c51e",
   "metadata": {},
   "source": [
    "The exponential map utilizes the fact any sequence of rotational transform of 3-D coordinates can be represented as a single 3-D rotation along only 1 axis. The exponential map representation of a rotation relies on finding this axis and the angle by which the whole coordinate system was rotation around it. This angle is the norm of the velocity vector multiplied by the duration of rotation. "
   ]
  },
  {
   "cell_type": "markdown",
   "id": "1d4c7186",
   "metadata": {},
   "source": [
    "### Question 2-c-2"
   ]
  },
  {
   "cell_type": "code",
   "execution_count": 39,
   "id": "7d538f16",
   "metadata": {},
   "outputs": [
    {
     "name": "stdout",
     "output_type": "stream",
     "text": [
      "[[ 0.99506737 -0.09893593  0.00725341]\n",
      " [ 0.09902323  0.99500189 -0.01286989]\n",
      " [-0.00594386  0.01352466  0.99989087]]\n"
     ]
    }
   ],
   "source": [
    "w, theta = np.array([2, 1, 15]), 4.1364\n",
    "\n",
    "theta = (np.linalg.norm(w) * theta) % (2 * np.pi)\n",
    "w = w / np.linalg.norm(w)\n",
    "k = np.eye(3)\n",
    "for i in range(3):\n",
    "    k[:, i] = np.cross(k[:, i], w)\n",
    "r = np.eye(3) + np.sin(theta) * k + (1 - np.cos(theta)) * (k @ k)\n",
    "\n",
    "print(r)"
   ]
  },
  {
   "cell_type": "markdown",
   "id": "38208d63",
   "metadata": {},
   "source": [
    "### Question 2-c-3"
   ]
  },
  {
   "cell_type": "code",
   "execution_count": 40,
   "id": "2159dd0b",
   "metadata": {},
   "outputs": [
    {
     "name": "stdout",
     "output_type": "stream",
     "text": [
      "0.1002410982461945 [0.13187609 0.06593805 0.98907071]\n"
     ]
    }
   ],
   "source": [
    "new_theta = np.arccos((np.trace(r) - 1) / 2)\n",
    "\n",
    "new_w = 1 / (2 * np.sin(new_theta)) * np.array([r[2, 1] - r[1, 2], r[0, 2] - r[2, 0], r[1, 0] - r[0, 1]])\n",
    "new_w = new_w / np.linalg.norm(new_w)\n",
    "\n",
    "print(new_theta, new_w)\n",
    "\n",
    "assert np.allclose(new_theta, 2 * np.pi - theta) or np.allclose(new_theta, theta)\n",
    "assert np.allclose(new_w, w)"
   ]
  },
  {
   "cell_type": "markdown",
   "id": "883f0ca0",
   "metadata": {},
   "source": [
    "# 3. Data representations"
   ]
  },
  {
   "cell_type": "markdown",
   "id": "4160e546",
   "metadata": {},
   "source": [
    "## a) Octomaps\n",
    "\n",
    "1. Why is an Octomap memory efficient?\n",
    "2. When do we update an Octomap and why?\n",
    "3. When would you likely use an octomap instead of a point cloud?\n",
    " "
   ]
  },
  {
   "cell_type": "markdown",
   "id": "2cf14afa",
   "metadata": {},
   "source": [
    "### Question 3-a-1"
   ]
  },
  {
   "cell_type": "markdown",
   "id": "d0ee32b3",
   "metadata": {},
   "source": [
    "Octomaps are memory efficient because they store detail in a heirarchical fashion. When building an occupancy map, if an entire octant of the initial space is either fully filled or fully empty, no more detail is added. Only if the map is partially filled and needs more detail do we break it down again into octants and repeat. So we end up compressing these sets of 8 voxels that would have had the same state into just one, and we do this recusively, saving a lot of memory."
   ]
  },
  {
   "cell_type": "markdown",
   "id": "ca590fd8",
   "metadata": {},
   "source": [
    "### Question 3-a-2"
   ]
  },
  {
   "cell_type": "markdown",
   "id": "e43bf7ba",
   "metadata": {},
   "source": [
    "We update an octomap whenever we get data that a part of a single block in the octomap is occupied. In this case we need to add nodes to the tree to be able to represent more detail, this continues recursively."
   ]
  },
  {
   "cell_type": "markdown",
   "id": "536ffb5e",
   "metadata": {},
   "source": [
    "### Question 3-a-3"
   ]
  },
  {
   "cell_type": "markdown",
   "id": "7aa1a442",
   "metadata": {},
   "source": [
    "Octomaps are very memory efficient since they do not need to store every point, large groups of points get clumped together and stored as a single node. This may also render some computational efficiency in some tasks, particularly transformation of point coodinates."
   ]
  },
  {
   "cell_type": "markdown",
   "id": "b55982c4",
   "metadata": {},
   "source": [
    "## b) Signed Distance Functions\n",
    "\n",
    "1. How do we determine object surfaces using SDF?\n",
    "2. How do we aggregate views from multiple cameras? (just a general overview is fine)\n",
    "3. Which preserves details better? Voxels or SDF? Why?\n",
    "4. What’s an advantage of SDF over a point cloud?\n"
   ]
  },
  {
   "cell_type": "markdown",
   "id": "ad76abb2",
   "metadata": {},
   "source": [
    "### Question 3-b-1"
   ]
  },
  {
   "cell_type": "markdown",
   "id": "0d93059e",
   "metadata": {},
   "source": [
    "We determine the object surfaces using sign interpolation on the SDF. Whenever the value of the SDF crosses 0, i.e. one voxel has an SDF which is negative and it's neighbor has one that is positive. This is because the FS is 0 on the surface."
   ]
  },
  {
   "cell_type": "markdown",
   "id": "dfa8891c",
   "metadata": {},
   "source": [
    "### Question 3-b-2"
   ]
  },
  {
   "cell_type": "markdown",
   "id": "8003bbd8",
   "metadata": {},
   "source": [
    "To aggregate from many observations, we need to know the camera pose for each. Then we can start taking weighted averages of the observations in each pixel.\n",
    "\n",
    "$$V \\leftarrow \\frac{WV + wv}{W + w}$$\n",
    "$$W \\leftarrow W + w$$\n",
    "\n",
    "If all the observations are equal all the weights will be the same, the form will get reduced to a normal averaging, while remembering to correct for camera pose."
   ]
  },
  {
   "cell_type": "markdown",
   "id": "97f4ddb4",
   "metadata": {},
   "source": [
    "### Question 3-b-3"
   ]
  },
  {
   "cell_type": "markdown",
   "id": "29da09b1",
   "metadata": {},
   "source": [
    "SDF preserved details better, because it has more information than voxels. Since the distance to the surface is stored, we can recover more fine grained information about the surface using a least squares method. Therefore SDF offers higher resolution and more redundant information storage."
   ]
  },
  {
   "cell_type": "markdown",
   "id": "d5b60b44",
   "metadata": {},
   "source": [
    "### Question 3-b-4"
   ]
  },
  {
   "cell_type": "markdown",
   "id": "596f3293",
   "metadata": {},
   "source": [
    "SDF maps are of a finite size and do not scale in the number of points, and for each voxel we have to just store 1 value as opposed to 3 values for a point in a point cloud, therefore they are more memory efficient particularly in dense occupancy maps. They are also easier to compute quantities on, like the position of a surface, etc."
   ]
  },
  {
   "cell_type": "markdown",
   "id": "b7539bf5",
   "metadata": {},
   "source": [
    "# References and Resources\n",
    "\n",
    "1. Gimbal locks and quaternions: https://youtu.be/YF5ZUlKxSgE\n",
    "2. Exponential map: \n",
    "    1. 3 Blue 1 Brown: https://youtu.be/O85OWBJ2ayo\n",
    "    2. Northwestern Robotics: https://youtu.be/v_KBHaG0mas\n",
    "3. Bunny ply is taken from: http://graphics.im.ntu.edu.tw/~robin/courses/cg03/model/"
   ]
  }
 ],
 "metadata": {
  "kernelspec": {
   "display_name": "Python 3 (ipykernel)",
   "language": "python",
   "name": "python3"
  },
  "language_info": {
   "codemirror_mode": {
    "name": "ipython",
    "version": 3
   },
   "file_extension": ".py",
   "mimetype": "text/x-python",
   "name": "python",
   "nbconvert_exporter": "python",
   "pygments_lexer": "ipython3",
   "version": "3.8.10"
  }
 },
 "nbformat": 4,
 "nbformat_minor": 5
}
